{
 "cells": [
  {
   "cell_type": "code",
   "execution_count": 1,
   "metadata": {},
   "outputs": [
    {
     "data": {
      "text/html": [
       "<style>.container { width:90% !important; }</style>"
      ],
      "text/plain": [
       "<IPython.core.display.HTML object>"
      ]
     },
     "metadata": {},
     "output_type": "display_data"
    }
   ],
   "source": [
    "from IPython.core.display import display, HTML\n",
    "display(HTML(\"<style>.container { width:90% !important; }</style>\"))"
   ]
  },
  {
   "cell_type": "code",
   "execution_count": 2,
   "metadata": {},
   "outputs": [],
   "source": [
    "import math\n",
    "import numpy as np\n",
    "import matplotlib.pyplot as plt\n",
    "import pandas as pd\n",
    "import seaborn as sns"
   ]
  },
  {
   "cell_type": "code",
   "execution_count": 3,
   "metadata": {},
   "outputs": [],
   "source": [
    "pd.set_option('display.max_rows', None)\n",
    "# pd.set_option('display.max_columns', None)\n",
    "# pd.set_option('display.width', None)\n",
    "pd.set_option('display.max_colwidth', None)"
   ]
  },
  {
   "cell_type": "code",
   "execution_count": 9,
   "metadata": {},
   "outputs": [],
   "source": [
    "import sys\n",
    "\n",
    "sys.path.append('./../../general/src')\n",
    "\n",
    "from access_script_data import patients\n",
    "\n",
    "sys.path.append('./../../tst/src/')\n",
    "import utils\n",
    "import feature_conversion\n",
    "\n",
    "sys.path.append('./../../flm/src/')\n",
    "import flm_tools\n",
    "\n",
    "sys.path.append('./../../flm/')\n",
    "import lohpo"
   ]
  },
  {
   "cell_type": "code",
   "execution_count": 5,
   "metadata": {},
   "outputs": [],
   "source": [
    "figure_output_directory = r'../file_outputs_from_notebooks/figures/'\n",
    "data_output_directory = r'../file_outputs_from_notebooks/data/'\n",
    "file_output_directory = r'../file_outputs_from_notebooks/'\n",
    "unmapped_loincs_output_directory = r'../file_outputs_from_notebooks/unmapped_loinc_codes_of_interest/'"
   ]
  },
  {
   "cell_type": "markdown",
   "metadata": {},
   "source": [
    "## Peter Robinson's request: a csv file with columns `loinc_code`, `loinc_name`, `frequency/counts`"
   ]
  },
  {
   "cell_type": "code",
   "execution_count": 6,
   "metadata": {},
   "outputs": [],
   "source": [
    "data_december = flm_tools.get_cleaned_data(version='latest',\n",
    "                                           multiple_visits='all')"
   ]
  },
  {
   "cell_type": "code",
   "execution_count": 7,
   "metadata": {},
   "outputs": [],
   "source": [
    "# Filtering SCRIPT measurements to only those identified through LOINC (can't map to HPO otherwise)\n",
    "f = data_december['measurement_vocabulary_id'] == \"LOINC\"\n",
    "data_december = data_december.loc[f]"
   ]
  },
  {
   "cell_type": "code",
   "execution_count": 10,
   "metadata": {},
   "outputs": [],
   "source": [
    "# Loading a dictionary containing the mapped LOINC to HPO codes\n",
    "value = lohpo.AnnotationLoader.load()\n",
    "\n",
    "# Loading a dictionary containing the HPO terms associated with the HPO codes\n",
    "header, result = lohpo.HpoTermListLoader.load()"
   ]
  },
  {
   "cell_type": "code",
   "execution_count": 11,
   "metadata": {},
   "outputs": [],
   "source": [
    "# This is the code block that converts measurements in dataset into HPO annotations\n",
    "# At this point, simply the general physiological annotation\n",
    "\n",
    "codes = set(data_december[\"measurement_concept_code\"])\n",
    "\n",
    "frames = []\n",
    "\n",
    "for code in codes:\n",
    "    f = data_december['measurement_concept_code'] == code\n",
    "    df = data_december.loc[f].copy()\n",
    "    loincId = lohpo.LoincId.from_code(code)\n",
    "    loinc2hpo = value.get(loincId, None)\n",
    "    \n",
    "    if loinc2hpo is not None:\n",
    "        for hpo_term in loinc2hpo.candidateHpoTerms.items():\n",
    "            if hpo_term[0].code == 'N':\n",
    "                df.loc[:, 'HPO_code'] = hpo_term[1].id.value\n",
    "                hpo_annot = result.get(hpo_term[1].id)\n",
    "                df.loc[:, 'HPO_annotation'] = hpo_annot.name\n",
    "                \n",
    "        frames.append(df)\n",
    "    else:\n",
    "        df.loc[:, 'HPO_code'] = None\n",
    "        df.loc[:, 'HPO_annotation'] = None\n",
    "        frames.append(df)\n",
    "data_december = pd.concat(frames)"
   ]
  },
  {
   "cell_type": "code",
   "execution_count": 12,
   "metadata": {},
   "outputs": [],
   "source": [
    "g = data_december['HPO_code'].isna()\n",
    "unmapped_entries = data_december.loc[g]"
   ]
  },
  {
   "cell_type": "code",
   "execution_count": 20,
   "metadata": {},
   "outputs": [],
   "source": [
    "la = unmapped_entries[['measurement_concept_code', 'measurement_concept_name']].value_counts().to_frame('frequency').reset_index()"
   ]
  },
  {
   "cell_type": "code",
   "execution_count": 22,
   "metadata": {},
   "outputs": [],
   "source": [
    "la = la.rename(columns={'measurement_concept_code': 'loinc_code',\n",
    "                       'measurement_concept_name': 'loinc_name'})"
   ]
  },
  {
   "cell_type": "code",
   "execution_count": 23,
   "metadata": {},
   "outputs": [],
   "source": [
    "la.to_csv(unmapped_loincs_output_directory+\"unmapped_loinc_codes_northwestern.csv\", index=False)"
   ]
  }
 ],
 "metadata": {
  "kernelspec": {
   "display_name": "Python 3 (ipykernel)",
   "language": "python",
   "name": "python3"
  },
  "language_info": {
   "codemirror_mode": {
    "name": "ipython",
    "version": 3
   },
   "file_extension": ".py",
   "mimetype": "text/x-python",
   "name": "python",
   "nbconvert_exporter": "python",
   "pygments_lexer": "ipython3",
   "version": "3.8.12"
  }
 },
 "nbformat": 4,
 "nbformat_minor": 4
}
