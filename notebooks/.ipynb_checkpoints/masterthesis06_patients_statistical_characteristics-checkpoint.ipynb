{
 "cells": [
  {
   "cell_type": "code",
   "execution_count": 1,
   "metadata": {},
   "outputs": [
    {
     "data": {
      "text/html": [
       "<style>.container { width:90% !important; }</style>"
      ],
      "text/plain": [
       "<IPython.core.display.HTML object>"
      ]
     },
     "metadata": {},
     "output_type": "display_data"
    }
   ],
   "source": [
    "from IPython.core.display import display, HTML\n",
    "display(HTML(\"<style>.container { width:90% !important; }</style>\"))"
   ]
  },
  {
   "cell_type": "markdown",
   "metadata": {},
   "source": [
    "-Histogram of how many patients have multiple visits  \n",
    "-Look at characterizing patient's ages, gender, race/ethnicity perhaps"
   ]
  },
  {
   "cell_type": "markdown",
   "metadata": {},
   "source": [
    "### Importing useful packages/modules"
   ]
  },
  {
   "cell_type": "code",
   "execution_count": 2,
   "metadata": {},
   "outputs": [],
   "source": [
    "import numpy as np\n",
    "import pandas as pd\n",
    "import sys\n",
    "import seaborn as sns\n",
    "import matplotlib.pyplot as plt\n",
    "import math\n",
    "from scipy import stats\n",
    "from scipy.stats import mannwhitneyu, spearmanr\n",
    "from statsmodels.sandbox.stats.multicomp import multipletests"
   ]
  },
  {
   "cell_type": "code",
   "execution_count": 3,
   "metadata": {},
   "outputs": [],
   "source": [
    "sys.path.append('./../flm/src/')\n",
    "import flm_tools\n",
    "\n",
    "sys.path.append('./../tst/src/')\n",
    "import utils\n",
    "import feature_conversion\n",
    "\n",
    "sys.path.append('./../general/src')\n",
    "from access_script_data import patients"
   ]
  },
  {
   "cell_type": "markdown",
   "metadata": {},
   "source": [
    "### Loading and cleaning tables for downstream analysis"
   ]
  },
  {
   "cell_type": "code",
   "execution_count": 4,
   "metadata": {},
   "outputs": [],
   "source": [
    "clean_all_table = flm_tools.get_cleaned_data(outcome_encoding='three')"
   ]
  },
  {
   "cell_type": "code",
   "execution_count": 5,
   "metadata": {},
   "outputs": [],
   "source": [
    "measurement_columns = ['patient_ir_id', 'cohort_patient_id', 'measurement_id',\n",
    "       'measurement_concept_id', 'measurement_concept_name',\n",
    "       'measurement_vocabulary_id', 'measurement_concept_class_id',\n",
    "       'measurement_concept_code', 'measurement_date', 'measurement_time',\n",
    "       'measurement_datetime', 'measurement_type_concept_id',\n",
    "       'measurement_type_concept_name', 'measurement_type_vocabulary_id',\n",
    "       'measurement_type_concept_class_id', 'measurement_type_concept_code',\n",
    "       'operator_concept_id', 'operator_concept_name',\n",
    "       'operator_vocabulary_id', 'operator_concept_class_id',\n",
    "       'operator_concept_code', 'value_as_number', 'value_as_concept_id',\n",
    "       'value_as_concept_name', 'value_as_vocabulary_id',\n",
    "       'value_as_concept_class_id', 'value_as_concept_code', 'unit_concept_id',\n",
    "       'unit_concept_name', 'unit_vocabulary_id', 'unit_concept_class_id',\n",
    "       'unit_concept_code', 'range_low', 'range_high', 'provider_id',\n",
    "       'visit_occurrence_id', 'visit_detail_id', 'measurement_source_value',\n",
    "       'measurement_source_concept_id', 'measurement_source_concept_name',\n",
    "       'measurement_source_vocabulary_id',\n",
    "       'measurement_source_concept_class_id',\n",
    "       'measurement_source_concept_code', 'unit_source_value',\n",
    "       'value_source_value', 'meta_orignl_load_dts']"
   ]
  },
  {
   "cell_type": "code",
   "execution_count": 6,
   "metadata": {},
   "outputs": [],
   "source": [
    "# Eliminating measurement columns to erase duplicates\n",
    "clean_all_table = clean_all_table.drop(measurement_columns,\n",
    "                                       axis='columns').drop_duplicates()"
   ]
  },
  {
   "cell_type": "code",
   "execution_count": 7,
   "metadata": {},
   "outputs": [],
   "source": [
    "diagnosis = patients.modified_edw_rc('pneumonia_episode_category_assessment', revision='latest',\n",
    "                                     columns=['case_number', 'clin_cap_viral_npop', 'pneu_assess_dt', 'pt_category'])\n",
    "\n",
    "diagnosis = feature_conversion.shorten_pt_category(diagnosis)\n",
    "diagnosis = diagnosis.dropna(subset=['pt_category'])\n",
    "diagnosis['pt_category'] = diagnosis['pt_category'].replace({'VAP': 'HAP/VAP',\n",
    "                                                            'HAP': 'HAP/VAP'})\n",
    "diagnosis = diagnosis.drop_duplicates(subset=['case_number'], keep='last')\n",
    "\n",
    "clean_all_table = pd.merge(clean_all_table, diagnosis)"
   ]
  },
  {
   "cell_type": "markdown",
   "metadata": {},
   "source": [
    "#### How many ICU cases per patient"
   ]
  },
  {
   "cell_type": "code",
   "execution_count": 8,
   "metadata": {},
   "outputs": [],
   "source": [
    "a = clean_all_table['discharge_disposition_name_conv'] == 0\n",
    "expired_pt = clean_all_table.loc[a]\n",
    "survived_pt = clean_all_table.loc[~a]"
   ]
  },
  {
   "cell_type": "code",
   "execution_count": 9,
   "metadata": {},
   "outputs": [
    {
     "data": {
      "text/html": [
       "<div>\n",
       "<style scoped>\n",
       "    .dataframe tbody tr th:only-of-type {\n",
       "        vertical-align: middle;\n",
       "    }\n",
       "\n",
       "    .dataframe tbody tr th {\n",
       "        vertical-align: top;\n",
       "    }\n",
       "\n",
       "    .dataframe thead th {\n",
       "        text-align: right;\n",
       "    }\n",
       "</style>\n",
       "<table border=\"1\" class=\"dataframe\">\n",
       "  <thead>\n",
       "    <tr style=\"text-align: right;\">\n",
       "      <th></th>\n",
       "      <th>case_number</th>\n",
       "      <th>discharge_disposition_name_conv</th>\n",
       "      <th>gender_concept_name</th>\n",
       "      <th>race_concept_name</th>\n",
       "      <th>ethnicity_concept_name</th>\n",
       "      <th>admission_datetime</th>\n",
       "      <th>discharge_datetime</th>\n",
       "      <th>hospital_los_days</th>\n",
       "      <th>pt_age</th>\n",
       "      <th>clin_cap_viral_npop</th>\n",
       "      <th>pneu_assess_dt</th>\n",
       "      <th>pt_category</th>\n",
       "    </tr>\n",
       "  </thead>\n",
       "  <tbody>\n",
       "    <tr>\n",
       "      <th>2</th>\n",
       "      <td>1184</td>\n",
       "      <td>0</td>\n",
       "      <td>Female</td>\n",
       "      <td>White</td>\n",
       "      <td>Not Hispanic or Latino</td>\n",
       "      <td>2020-01-12 18:31:00</td>\n",
       "      <td>2020-01-30 19:00:00</td>\n",
       "      <td>18.0</td>\n",
       "      <td>46</td>\n",
       "      <td>None</td>\n",
       "      <td>2020-01-17</td>\n",
       "      <td>HAP/VAP</td>\n",
       "    </tr>\n",
       "    <tr>\n",
       "      <th>4</th>\n",
       "      <td>1131</td>\n",
       "      <td>0</td>\n",
       "      <td>Male</td>\n",
       "      <td>White</td>\n",
       "      <td>Not Hispanic or Latino</td>\n",
       "      <td>2019-09-03 21:55:00</td>\n",
       "      <td>2019-09-18 13:44:00</td>\n",
       "      <td>15.0</td>\n",
       "      <td>49</td>\n",
       "      <td>None</td>\n",
       "      <td>2019-09-04</td>\n",
       "      <td>HAP/VAP</td>\n",
       "    </tr>\n",
       "    <tr>\n",
       "      <th>6</th>\n",
       "      <td>1304</td>\n",
       "      <td>0</td>\n",
       "      <td>Male</td>\n",
       "      <td>White</td>\n",
       "      <td>Not Hispanic or Latino</td>\n",
       "      <td>2020-05-06 21:09:00</td>\n",
       "      <td>2020-07-29 11:09:00</td>\n",
       "      <td>84.0</td>\n",
       "      <td>36</td>\n",
       "      <td>None</td>\n",
       "      <td>2020-06-15</td>\n",
       "      <td>HAP/VAP</td>\n",
       "    </tr>\n",
       "    <tr>\n",
       "      <th>10</th>\n",
       "      <td>1002</td>\n",
       "      <td>0</td>\n",
       "      <td>Female</td>\n",
       "      <td>White</td>\n",
       "      <td>Not Hispanic or Latino</td>\n",
       "      <td>2018-06-21 17:07:00</td>\n",
       "      <td>2018-07-21 10:30:00</td>\n",
       "      <td>30.0</td>\n",
       "      <td>64</td>\n",
       "      <td>None</td>\n",
       "      <td>2018-06-26</td>\n",
       "      <td>HAP/VAP</td>\n",
       "    </tr>\n",
       "    <tr>\n",
       "      <th>26</th>\n",
       "      <td>1003</td>\n",
       "      <td>0</td>\n",
       "      <td>Male</td>\n",
       "      <td>White</td>\n",
       "      <td>Hispanic or Latino</td>\n",
       "      <td>2018-06-24 09:52:00</td>\n",
       "      <td>2018-07-11 23:57:00</td>\n",
       "      <td>17.0</td>\n",
       "      <td>75</td>\n",
       "      <td>None</td>\n",
       "      <td>2018-06-30</td>\n",
       "      <td>HAP/VAP</td>\n",
       "    </tr>\n",
       "    <tr>\n",
       "      <th>...</th>\n",
       "      <td>...</td>\n",
       "      <td>...</td>\n",
       "      <td>...</td>\n",
       "      <td>...</td>\n",
       "      <td>...</td>\n",
       "      <td>...</td>\n",
       "      <td>...</td>\n",
       "      <td>...</td>\n",
       "      <td>...</td>\n",
       "      <td>...</td>\n",
       "      <td>...</td>\n",
       "      <td>...</td>\n",
       "    </tr>\n",
       "    <tr>\n",
       "      <th>299</th>\n",
       "      <td>1329</td>\n",
       "      <td>0</td>\n",
       "      <td>Male</td>\n",
       "      <td>Asian</td>\n",
       "      <td>Not Hispanic or Latino</td>\n",
       "      <td>2020-06-17 03:16:00</td>\n",
       "      <td>2020-08-18 11:30:00</td>\n",
       "      <td>62.0</td>\n",
       "      <td>51</td>\n",
       "      <td>None</td>\n",
       "      <td>2020-07-17</td>\n",
       "      <td>HAP/VAP</td>\n",
       "    </tr>\n",
       "    <tr>\n",
       "      <th>302</th>\n",
       "      <td>1365</td>\n",
       "      <td>0</td>\n",
       "      <td>Female</td>\n",
       "      <td>Black or African American</td>\n",
       "      <td>Not Hispanic or Latino</td>\n",
       "      <td>2020-08-21 04:50:00</td>\n",
       "      <td>2020-09-04 15:24:00</td>\n",
       "      <td>14.0</td>\n",
       "      <td>74</td>\n",
       "      <td>None</td>\n",
       "      <td>2020-08-24</td>\n",
       "      <td>HAP/VAP</td>\n",
       "    </tr>\n",
       "    <tr>\n",
       "      <th>303</th>\n",
       "      <td>1377</td>\n",
       "      <td>0</td>\n",
       "      <td>Male</td>\n",
       "      <td>White</td>\n",
       "      <td>Not Hispanic or Latino</td>\n",
       "      <td>2020-09-02 10:20:00</td>\n",
       "      <td>2020-10-13 20:38:00</td>\n",
       "      <td>41.0</td>\n",
       "      <td>62</td>\n",
       "      <td>None</td>\n",
       "      <td>2020-09-08</td>\n",
       "      <td>HAP/VAP</td>\n",
       "    </tr>\n",
       "    <tr>\n",
       "      <th>304</th>\n",
       "      <td>1378</td>\n",
       "      <td>0</td>\n",
       "      <td>Female</td>\n",
       "      <td>White</td>\n",
       "      <td>Not Hispanic or Latino</td>\n",
       "      <td>2020-09-04 15:51:00</td>\n",
       "      <td>2020-10-06 16:28:00</td>\n",
       "      <td>32.0</td>\n",
       "      <td>78</td>\n",
       "      <td>None</td>\n",
       "      <td>2020-09-09</td>\n",
       "      <td>HAP/VAP</td>\n",
       "    </tr>\n",
       "    <tr>\n",
       "      <th>306</th>\n",
       "      <td>1412</td>\n",
       "      <td>0</td>\n",
       "      <td>Male</td>\n",
       "      <td>No matching concept</td>\n",
       "      <td>Hispanic or Latino</td>\n",
       "      <td>2020-11-09 14:49:00</td>\n",
       "      <td>2020-12-23 14:29:00</td>\n",
       "      <td>44.0</td>\n",
       "      <td>66</td>\n",
       "      <td>None</td>\n",
       "      <td>2020-12-02</td>\n",
       "      <td>HAP/VAP</td>\n",
       "    </tr>\n",
       "  </tbody>\n",
       "</table>\n",
       "<p>118 rows × 12 columns</p>\n",
       "</div>"
      ],
      "text/plain": [
       "     case_number  discharge_disposition_name_conv gender_concept_name  \\\n",
       "2           1184                                0              Female   \n",
       "4           1131                                0                Male   \n",
       "6           1304                                0                Male   \n",
       "10          1002                                0              Female   \n",
       "26          1003                                0                Male   \n",
       "..           ...                              ...                 ...   \n",
       "299         1329                                0                Male   \n",
       "302         1365                                0              Female   \n",
       "303         1377                                0                Male   \n",
       "304         1378                                0              Female   \n",
       "306         1412                                0                Male   \n",
       "\n",
       "             race_concept_name  ethnicity_concept_name  admission_datetime  \\\n",
       "2                        White  Not Hispanic or Latino 2020-01-12 18:31:00   \n",
       "4                        White  Not Hispanic or Latino 2019-09-03 21:55:00   \n",
       "6                        White  Not Hispanic or Latino 2020-05-06 21:09:00   \n",
       "10                       White  Not Hispanic or Latino 2018-06-21 17:07:00   \n",
       "26                       White      Hispanic or Latino 2018-06-24 09:52:00   \n",
       "..                         ...                     ...                 ...   \n",
       "299                      Asian  Not Hispanic or Latino 2020-06-17 03:16:00   \n",
       "302  Black or African American  Not Hispanic or Latino 2020-08-21 04:50:00   \n",
       "303                      White  Not Hispanic or Latino 2020-09-02 10:20:00   \n",
       "304                      White  Not Hispanic or Latino 2020-09-04 15:51:00   \n",
       "306        No matching concept      Hispanic or Latino 2020-11-09 14:49:00   \n",
       "\n",
       "     discharge_datetime  hospital_los_days  pt_age clin_cap_viral_npop  \\\n",
       "2   2020-01-30 19:00:00               18.0      46                None   \n",
       "4   2019-09-18 13:44:00               15.0      49                None   \n",
       "6   2020-07-29 11:09:00               84.0      36                None   \n",
       "10  2018-07-21 10:30:00               30.0      64                None   \n",
       "26  2018-07-11 23:57:00               17.0      75                None   \n",
       "..                  ...                ...     ...                 ...   \n",
       "299 2020-08-18 11:30:00               62.0      51                None   \n",
       "302 2020-09-04 15:24:00               14.0      74                None   \n",
       "303 2020-10-13 20:38:00               41.0      62                None   \n",
       "304 2020-10-06 16:28:00               32.0      78                None   \n",
       "306 2020-12-23 14:29:00               44.0      66                None   \n",
       "\n",
       "    pneu_assess_dt pt_category  \n",
       "2       2020-01-17     HAP/VAP  \n",
       "4       2019-09-04     HAP/VAP  \n",
       "6       2020-06-15     HAP/VAP  \n",
       "10      2018-06-26     HAP/VAP  \n",
       "26      2018-06-30     HAP/VAP  \n",
       "..             ...         ...  \n",
       "299     2020-07-17     HAP/VAP  \n",
       "302     2020-08-24     HAP/VAP  \n",
       "303     2020-09-08     HAP/VAP  \n",
       "304     2020-09-09     HAP/VAP  \n",
       "306     2020-12-02     HAP/VAP  \n",
       "\n",
       "[118 rows x 12 columns]"
      ]
     },
     "execution_count": 9,
     "metadata": {},
     "output_type": "execute_result"
    }
   ],
   "source": [
    "expired_pt"
   ]
  },
  {
   "cell_type": "code",
   "execution_count": null,
   "metadata": {},
   "outputs": [],
   "source": [
    "survived_pt.describe()"
   ]
  },
  {
   "cell_type": "markdown",
   "metadata": {},
   "source": [
    "#### Ages of patients"
   ]
  },
  {
   "cell_type": "markdown",
   "metadata": {},
   "source": [
    "#### Is there an age difference between patients who die, and those who survive?"
   ]
  },
  {
   "cell_type": "code",
   "execution_count": null,
   "metadata": {},
   "outputs": [],
   "source": [
    "a = clean_all_table['discharge_disposition_name_conv'] == 0\n",
    "expired_pt = list(clean_all_table.loc[a, 'pt_age'])\n",
    "survived_pt = list(clean_all_table.loc[~a, 'pt_age'])"
   ]
  },
  {
   "cell_type": "code",
   "execution_count": null,
   "metadata": {
    "scrolled": false
   },
   "outputs": [],
   "source": [
    "fig, ax = plt.subplots(1,1, figsize=(8,8), constrained_layout=True)\n",
    "sns.distplot(clean_all_table['hospital_los_days'], bins='fd', kde=False, ax=ax)\n",
    "# sns.distplot(survived_pt, bins='fd', kde=False, color='royalblue', ax=ax, label='Survived')\n",
    "ax.set_xlabel('Length of Stay (LOS) (days)',fontsize=22)\n",
    "ax.set_ylabel('Patient count',fontsize=22)\n",
    "ax.vlines(np.median(clean_all_table['hospital_los_days']),0,55,color='r',label=f\"Median: {np.median(clean_all_table['hospital_los_days']):.0f} years\")\n",
    "ax.vlines(np.percentile(clean_all_table['hospital_los_days'], 25),0,55,color='b',label=f\"IQR: {np.percentile(clean_all_table['hospital_los_days'], 75)-np.percentile(clean_all_table['hospital_los_days'], 25):.0f} years\")\n",
    "ax.vlines(np.percentile(clean_all_table['hospital_los_days'], 75),0,55,color='b')\n",
    "ax.grid(linestyle=':')\n",
    "ax.tick_params(axis='x', labelsize=22)\n",
    "ax.tick_params(axis='y', labelsize=22)\n",
    "ax.legend(loc='best', fontsize=15)\n",
    "# plt.savefig(\"age_distribution_210602.png\")\n",
    "plt.show()"
   ]
  },
  {
   "cell_type": "code",
   "execution_count": null,
   "metadata": {},
   "outputs": [],
   "source": [
    "# ax1 = sns.boxplot(x=\"discharge_disposition_name_conv\", y=\"pt_age\", data=clean_all_table)\n",
    "# ax1 = sns.swarmplot(x=\"discharge_disposition_name_conv\", y=\"pt_age\", data=clean_all_table, color=\".2\")"
   ]
  },
  {
   "cell_type": "code",
   "execution_count": null,
   "metadata": {},
   "outputs": [],
   "source": [
    "cdf_expired = flm_tools.get_survival_fn(expired_pt)\n",
    "cdf_survived = flm_tools.get_survival_fn(survived_pt)"
   ]
  },
  {
   "cell_type": "code",
   "execution_count": null,
   "metadata": {},
   "outputs": [],
   "source": [
    "fig1, eje = plt.subplots(1, 1, figsize=(8,8), constrained_layout=True)\n",
    "eje.step(cdf_expired[0],cdf_expired[1], color='r', label='Expired')\n",
    "eje.step(cdf_survived[0],cdf_survived[1], color='limegreen', label=\"Survived\")\n",
    "eje.set_xlabel('Patient age at study enrollment (years)', fontsize=20)\n",
    "eje.set_ylabel('Fraction of patients remaining', fontsize=20)\n",
    "eje.tick_params(axis='x', labelsize=20)\n",
    "eje.tick_params(axis='y', labelsize=20)\n",
    "eje.grid(linestyle=':')\n",
    "eje.legend(loc='best', fontsize=15)\n",
    "# plt.savefig(\"age_CDF_210602.png\")\n",
    "plt.show()"
   ]
  },
  {
   "cell_type": "code",
   "execution_count": null,
   "metadata": {
    "scrolled": true
   },
   "outputs": [],
   "source": [
    "stat, pvalue = stats.mannwhitneyu(expired_pt, survived_pt)\n",
    "\n",
    "summary = {'Statistics': ['test statistic','p-value'],\n",
    "           'Age difference': [stat,pvalue]}\n",
    "\n",
    "pd.DataFrame(summary)"
   ]
  },
  {
   "cell_type": "markdown",
   "metadata": {},
   "source": [
    "#### And what about ternary outcomes?"
   ]
  },
  {
   "cell_type": "code",
   "execution_count": null,
   "metadata": {},
   "outputs": [],
   "source": [
    "exp = clean_all_table['discharge_disposition_name_conv'] == 0\n",
    "trans = clean_all_table['discharge_disposition_name_conv'] == 1\n",
    "home = clean_all_table['discharge_disposition_name_conv'] == 2\n",
    "expired_pt = list(clean_all_table.loc[exp, 'pt_age'])\n",
    "trans_pt = list(clean_all_table.loc[trans, 'pt_age'])\n",
    "home_pt = list(clean_all_table.loc[home, 'pt_age'])"
   ]
  },
  {
   "cell_type": "code",
   "execution_count": null,
   "metadata": {},
   "outputs": [],
   "source": [
    "fig2, ax1 = plt.subplots(1,1, figsize=(8,7))\n",
    "sns.distplot(expired_pt, bins='fd', kde=False, color='red', ax=ax1, label='Expired')\n",
    "sns.distplot(trans_pt, bins='fd', kde=False, color='orange', ax=ax1, label='Transferred')\n",
    "sns.distplot(home_pt, bins='fd', kde=False, color='green', ax=ax1, label='Sent Home')\n",
    "ax1.set_xlabel('Patient age at study enrollment (years)',fontsize=15)\n",
    "ax1.set_ylabel('# of patients',fontsize=15)\n",
    "ax1.grid(linestyle=':')\n",
    "ax1.tick_params(axis='x', labelsize=15)\n",
    "ax1.tick_params(axis='y', labelsize=15)\n",
    "# ax1.legend(loc='best', fontsize=12)\n",
    "# plt.savefig(\"age_distribution_ternary_210602.png\")\n",
    "plt.show()"
   ]
  },
  {
   "cell_type": "code",
   "execution_count": null,
   "metadata": {},
   "outputs": [],
   "source": [
    "cdf_expired = flm_tools.get_survival_fn(expired_pt)\n",
    "cdf_trans = flm_tools.get_survival_fn(trans_pt)\n",
    "cdf_home = flm_tools.get_survival_fn(home_pt)"
   ]
  },
  {
   "cell_type": "code",
   "execution_count": null,
   "metadata": {},
   "outputs": [],
   "source": [
    "fig3, eje1 = plt.subplots(1, 1, figsize=(8,8), constrained_layout=True)\n",
    "eje1.step(cdf_expired[0],cdf_expired[1], color='red', label='Expired')\n",
    "eje1.step(cdf_trans[0],cdf_trans[1], color='orange', label='Transferred')\n",
    "eje1.step(cdf_home[0],cdf_home[1], color='green', label=\"Sent home\")\n",
    "eje1.set_xlabel('Patient age at study enrollment (years)', fontsize=20)\n",
    "eje1.set_ylabel('Fraction of patients remaining', fontsize=20)\n",
    "eje1.tick_params(axis='x', labelsize=20)\n",
    "eje1.tick_params(axis='y', labelsize=20)\n",
    "eje1.grid(linestyle=':')\n",
    "eje1.legend(loc='best', fontsize=15)\n",
    "# plt.savefig(\"age_CDF_ternary_210602.png\")\n",
    "plt.show()"
   ]
  },
  {
   "cell_type": "code",
   "execution_count": null,
   "metadata": {},
   "outputs": [],
   "source": [
    "stat, pvaluek = stats.kruskal(expired_pt, trans_pt, home_pt)\n",
    "\n",
    "summary = {'Statistics': ['Test_statistic', 'p-value'],\n",
    "           'Age CDFs': [stat, pvaluek]}\n",
    "\n",
    "pd.DataFrame(summary)"
   ]
  },
  {
   "cell_type": "code",
   "execution_count": null,
   "metadata": {},
   "outputs": [],
   "source": [
    "import scikit_posthocs as skp\n",
    "skp.posthoc_mannwhitney(clean_all_table[['discharge_disposition_name_conv','pt_age']], val_col='pt_age', group_col='discharge_disposition_name_conv', p_adjust='bonferroni')"
   ]
  },
  {
   "cell_type": "markdown",
   "metadata": {},
   "source": [
    "#### Binary Gender"
   ]
  },
  {
   "cell_type": "code",
   "execution_count": null,
   "metadata": {},
   "outputs": [],
   "source": [
    "c = clean_all_table['gender_concept_name'].value_counts()\n",
    "\n",
    "# f3, ax6 = plt.subplots(1,1, figsize=(8,5))\n",
    "# ax6.bar(c.index, c.values)\n",
    "# ax6.set_xlabel('Binary Gender')\n",
    "# ax6.set_ylabel('Count')\n",
    "# plt.show()\n",
    "\n",
    "conteo = c.values\n",
    "sex = c.index\n",
    "\n",
    "df1 = pd.DataFrame({\"Sex\": sex, \"counts\": conteo, \"fraction\": conteo/sum(conteo)})\n",
    "\n",
    "plt.figure(figsize=(8, 8), constrained_layout=True)\n",
    "splot=sns.barplot(x=\"Sex\", y=\"fraction\", data=df1, color='#2CBDFE')\n",
    "splot.set(ylabel=None)\n",
    "splot.set(xlabel=None)\n",
    "\n",
    "for p in splot.patches:\n",
    "    splot.annotate(format(p.get_height()*sum(conteo), '.0f'), \n",
    "                   (p.get_x() + p.get_width() / 2., p.get_height()), \n",
    "                   ha = 'center', va = 'center', size=20, \n",
    "                   xytext = (0, -12), \n",
    "                   textcoords = 'offset points')\n",
    "plt.ylabel('Fraction of patients', size=22)\n",
    "plt.tick_params(axis='x', labelsize=22)\n",
    "plt.tick_params(axis='y', labelsize=22)\n",
    "plt.grid(linestyle=':', axis='y')\n",
    "# plt.savefig(\"patients_by_sex_210602.png\")"
   ]
  },
  {
   "cell_type": "code",
   "execution_count": null,
   "metadata": {},
   "outputs": [],
   "source": [
    "f = clean_all_table['discharge_disposition_name_conv'] == 0\n",
    "expired = clean_all_table.loc[f, 'gender_concept_name']\n",
    "survived = clean_all_table.loc[~f, 'gender_concept_name']\n",
    "\n",
    "e = expired.value_counts()\n",
    "s = survived.value_counts()"
   ]
  },
  {
   "cell_type": "code",
   "execution_count": null,
   "metadata": {},
   "outputs": [],
   "source": [
    "male_expired = list((expired == 'Male').astype(int))\n",
    "boot_male_expired = np.random.choice(male_expired, size=(10000,len(male_expired)), replace=True)\n",
    "\n",
    "male_survived = list((survived == 'Male').astype(int))\n",
    "boot_male_survived = np.random.choice(male_survived, size=(10000,len(male_survived)), replace=True)\n",
    "\n",
    "male_means = [np.mean(np.mean(boot_male_expired,axis=1)),\n",
    "              np.mean(np.mean(boot_male_survived, axis=1))]\n",
    "\n",
    "male_CIs = np.array([[male_means[0] - np.percentile(np.mean(boot_male_expired,axis=1), 0.5),\n",
    "                 male_means[1] - np.percentile(np.mean(boot_male_survived, axis=1), 0.5)],\n",
    "                [np.percentile(np.mean(boot_male_expired,axis=1), 99.5) - male_means[0],\n",
    "                 np.percentile(np.mean(boot_male_survived, axis=1), 99.5) - male_means[1]]])"
   ]
  },
  {
   "cell_type": "code",
   "execution_count": null,
   "metadata": {},
   "outputs": [],
   "source": [
    "labels_binary = ['Expired', 'Survived']\n",
    "share_men_binary = [e[0]/(e[0]+e[1]), s[0]/(s[0]+s[1])]\n",
    "share_women_binary = [e[1]/(e[0]+e[1]), s[1]/(s[0]+s[1])]\n",
    "\n",
    "fig4, ax2 = plt.subplots(1,1,figsize=(8,8))\n",
    "ax2.bar(labels_binary, share_men_binary, width=0.35, label='Male')\n",
    "ax2.bar(labels_binary, share_women_binary, width=0.35, bottom=share_men_binary, label='Female')\n",
    "ax2.tick_params(axis='x', labelsize=20)\n",
    "ax2.tick_params(axis='y', labelsize=20)\n",
    "ax2.legend(loc='best', fontsize=12)\n",
    "ax2.grid(linestyle=':', axis='y')\n",
    "ax2.set_ylabel('Sex fraction', size=20)\n",
    "plt.axis((-0.5, 1.5, 0.0, 1.15))\n",
    "# plt.savefig(\"sex_proportions_210602.png\")"
   ]
  },
  {
   "cell_type": "code",
   "execution_count": null,
   "metadata": {},
   "outputs": [],
   "source": [
    "fig5, ax3 = plt.subplots(1, 1, figsize=(8,8), constrained_layout=True)\n",
    "\n",
    "ax3.bar(labels_binary, male_means, yerr=male_CIs, color=['r','limegreen'])\n",
    "ax3.hlines(df1.loc[0,'fraction'], ax3.get_xlim()[0], ax3.get_xlim()[-1], color='indigo', linestyles='dashed', label=f\"Cohort's male fraction ({df1.loc[0,'fraction']:.3f})\")\n",
    "ax3.tick_params(axis='x', labelsize=20)\n",
    "ax3.tick_params(axis='y', labelsize=20)\n",
    "ax3.set_ylabel('Fraction male', size=20)\n",
    "ax3.legend(loc='upper left', fontsize=15)\n",
    "\n",
    "# plt.savefig('asdfasd1.png')"
   ]
  },
  {
   "cell_type": "code",
   "execution_count": null,
   "metadata": {},
   "outputs": [],
   "source": [
    "from scipy.stats import chi2_contingency\n",
    "chi2, pvalue, dof, ex = chi2_contingency(np.array([[s[0], e[0]], [s[1], e[1]]]))\n",
    "print(chi2, pvalue, dof)"
   ]
  },
  {
   "cell_type": "markdown",
   "metadata": {},
   "source": [
    "And by three outcomes"
   ]
  },
  {
   "cell_type": "code",
   "execution_count": null,
   "metadata": {},
   "outputs": [],
   "source": [
    "exp = clean_all_table['discharge_disposition_name_conv'] == 0\n",
    "trans = clean_all_table['discharge_disposition_name_conv'] == 1\n",
    "hom = clean_all_table['discharge_disposition_name_conv'] == 2\n",
    "\n",
    "expired = clean_all_table.loc[exp, 'gender_concept_name']\n",
    "transferred = clean_all_table.loc[trans, 'gender_concept_name']\n",
    "home = clean_all_table.loc[hom, 'gender_concept_name']\n",
    "\n",
    "e = expired.value_counts()\n",
    "t = transferred.value_counts()\n",
    "h = home.value_counts()"
   ]
  },
  {
   "cell_type": "code",
   "execution_count": null,
   "metadata": {},
   "outputs": [],
   "source": [
    "labels_ternary = ['Expired', 'Transferred', 'Sent Home']\n",
    "# share_men_ternary = [e[0]/(e[0]+e[1]), t[0]/(t[0]+t[1]), h[0]/(h[0]+h[1])]\n",
    "# share_women_ternary = [e[1]/(e[0]+e[1]), t[1]/(t[0]+t[1]), h[1]/(h[0]+h[1])]\n",
    "\n",
    "# fig5, ax3 = plt.subplots(1,1,figsize=(8,8))\n",
    "# ax3.bar(labels_ternary, share_men_ternary, width=0.35, label='Male')\n",
    "# ax3.bar(labels_ternary, share_women_ternary, width=0.35, bottom=share_men_ternary, label='Female')\n",
    "# ax3.tick_params(axis='x', labelsize=20)\n",
    "# ax3.tick_params(axis='y', labelsize=20)\n",
    "# ax3.legend(loc='best', fontsize=12)\n",
    "# ax3.grid(linestyle=':', axis='y')\n",
    "# ax3.set_ylabel('Sex fraction', size=20)\n",
    "# plt.axis((-0.5, 2.5, 0.0, 1.15))\n",
    "# plt.show()\n",
    "# # plt.savefig(\"sex_proportions_ternary_210602.png\")"
   ]
  },
  {
   "cell_type": "code",
   "execution_count": null,
   "metadata": {},
   "outputs": [],
   "source": [
    "# fig6, axes = plt.subplots(ncols=2, nrows=1, figsize=(12,6), constrained_layout=True)\n",
    "# axes[0].bar(labels_binary, share_men_binary, width=0.35, label='Male')\n",
    "# axes[0].bar(labels_binary, share_women_binary, width=0.35, bottom=share_men_binary, label='Female')\n",
    "# axes[0].tick_params(axis='x', labelsize=20)\n",
    "# axes[0].tick_params(axis='y', labelsize=20)\n",
    "# axes[0].grid(linestyle=':', axis='y')\n",
    "# axes[0].set_ylabel('Sex fraction', size=20)\n",
    "# axes[0].axis((-0.5, 1.5, 0.0, 1.15))\n",
    "# axes[0].text(0.01, 0.98, 'a', transform=axes[0].transAxes,\n",
    "#       fontsize=23, va='top')\n",
    "\n",
    "# axes[1].bar(labels_ternary, share_men_ternary, width=0.35, label='Male')\n",
    "# axes[1].bar(labels_ternary, share_women_ternary, width=0.35, bottom=share_men_ternary, label='Female')\n",
    "# axes[1].tick_params(axis='x', labelsize=20)\n",
    "# axes[1].tick_params(left=False, labelleft=False)\n",
    "# axes[1].legend(loc='best', fontsize=13)\n",
    "# axes[1].grid(linestyle=':', axis='y')\n",
    "# axes[1].axis((-0.5, 2.5, 0.0, 1.15))\n",
    "# axes[1].text(0.01, 0.98, 'b', transform=axes[1].transAxes,\n",
    "#       fontsize=23, va='top')\n",
    "\n",
    "# # plt.savefig(\"sex_proportions_210602.png\")"
   ]
  },
  {
   "cell_type": "code",
   "execution_count": null,
   "metadata": {},
   "outputs": [],
   "source": [
    "# from scipy.stats import chi2_contingency\n",
    "# chi2, pvalue, dof, ex = chi2_contingency(np.array([[e[0], t[0], h[0]], [e[1], t[1], h[1]]]))\n",
    "# print(chi2, pvalue, dof)"
   ]
  },
  {
   "cell_type": "code",
   "execution_count": null,
   "metadata": {},
   "outputs": [],
   "source": [
    "# np.array([[e[0], t[0], h[0]], [e[1], t[1], h[1]]])"
   ]
  },
  {
   "cell_type": "markdown",
   "metadata": {},
   "source": [
    "Or I can bootstrap gender fractions"
   ]
  },
  {
   "cell_type": "code",
   "execution_count": null,
   "metadata": {},
   "outputs": [],
   "source": [
    "male_expired = list((expired == 'Male').astype(int))\n",
    "boot_male_expired = np.random.choice(male_expired, size=(10000,len(male_expired)), replace=True)\n",
    "\n",
    "male_transferred = list((transferred == 'Male').astype(int))\n",
    "boot_male_transferred = np.random.choice(male_transferred, size=(10000,len(male_transferred)), replace=True)\n",
    "\n",
    "male_home = list((home == 'Male').astype(int))\n",
    "boot_male_home = np.random.choice(male_home, size=(10000,len(male_home)), replace=True)\n",
    "\n",
    "male_means = [np.mean(np.mean(boot_male_expired,axis=1)),\n",
    "         np.mean(np.mean(boot_male_transferred, axis=1)),\n",
    "         np.mean(np.mean(boot_male_home, axis=1))]\n",
    "\n",
    "male_CIs = np.array([[male_means[0] - np.percentile(np.mean(boot_male_expired,axis=1), 0.5),\n",
    "                 male_means[1] - np.percentile(np.mean(boot_male_transferred, axis=1), 0.5),\n",
    "                 male_means[2] - np.percentile(np.mean(boot_male_home, axis=1), 0.5)],\n",
    "                [np.percentile(np.mean(boot_male_expired,axis=1), 99.5) - male_means[0],\n",
    "                 np.percentile(np.mean(boot_male_transferred, axis=1), 99.5) - male_means[1],\n",
    "                 np.percentile(np.mean(boot_male_home, axis=1), 99.5) - male_means[2]]])"
   ]
  },
  {
   "cell_type": "code",
   "execution_count": null,
   "metadata": {},
   "outputs": [],
   "source": [
    "np.percentile(np.mean(boot_male_home, axis=1), 0.5)"
   ]
  },
  {
   "cell_type": "code",
   "execution_count": null,
   "metadata": {},
   "outputs": [],
   "source": [
    "fig5, ax3 = plt.subplots(1, 1, figsize=(8,8), constrained_layout=True)\n",
    "\n",
    "ax3.bar(labels_ternary, male_means, yerr=male_CIs, color=['r','orange','g'])\n",
    "ax3.hlines(df1.loc[0,'fraction'], ax3.get_xlim()[0], ax3.get_xlim()[-1], color='indigo', linestyles='dashed', label=f\"Cohort's male fraction ({df1.loc[0,'fraction']:.3f})\")\n",
    "ax3.tick_params(axis='x', labelsize=20)\n",
    "ax3.tick_params(axis='y', labelsize=20)\n",
    "ax3.set_ylabel('Fraction male', size=20)\n",
    "ax3.legend(loc='upper left', fontsize=15)\n",
    "\n",
    "# plt.savefig('asdfasd.png')"
   ]
  },
  {
   "cell_type": "markdown",
   "metadata": {},
   "source": [
    "#### Some people really want to look at race/ethnicity breakdowns..."
   ]
  },
  {
   "cell_type": "code",
   "execution_count": null,
   "metadata": {},
   "outputs": [],
   "source": [
    "# clean_all_table['race_ethnicity'] = clean_all_table['race_concept_name'] + ' ' + clean_all_table['ethnicity_concept_name']"
   ]
  },
  {
   "cell_type": "code",
   "execution_count": null,
   "metadata": {},
   "outputs": [],
   "source": [
    "# clean_all_table['race_ethnicity'] = clean_all_table['race_ethnicity'].replace({'Black or African American Not Hispanic or Latino': 'Black',\n",
    "#                                                                                'No matching concept No matching concept': 'Unknown',\n",
    "#                                                                               'White Not Hispanic or Latino': 'White',\n",
    "#                                                                               'White No matching concept': 'White',\n",
    "#                                                                               'No matching concept Not Hispanic or Latino': 'Unknown',\n",
    "#                                                                               'White Hispanic or Latino': 'Hispanic White',\n",
    "#                                                                               'No matching concept Hispanic or Latino': 'Hispanic',\n",
    "#                                                                               'Asian Not Hispanic or Latino': 'Asian',\n",
    "#                                                                               'Asian Hispanic or Latino': 'Hispanic Asian',\n",
    "#                                                                               'American Indian or Alaska Native Not Hispanic or Latino': 'Native'})\n",
    "# clean_all_table['race_ethnicity'].value_counts()"
   ]
  },
  {
   "cell_type": "markdown",
   "metadata": {},
   "source": [
    "#### Looking at pneumonia type breakdown"
   ]
  },
  {
   "cell_type": "code",
   "execution_count": null,
   "metadata": {},
   "outputs": [],
   "source": [
    "d = clean_all_table['pt_category'].value_counts()\n",
    "\n",
    "count = d.values\n",
    "category = d.index\n",
    "\n",
    "df2 = pd.DataFrame({\"Disease type\": category, \"counts\": count, \"fraction\": count/sum(count)})\n",
    "\n",
    "plt.figure(figsize=(8, 8), constrained_layout=True)\n",
    "splot=sns.barplot(x=\"Disease type\", y=\"fraction\", data=df2, color='#2CBDFE')\n",
    "splot.set(xlabel=None)\n",
    "\n",
    "for p in splot.patches:\n",
    "    splot.annotate(format(p.get_height()*sum(count), '.0f'), \n",
    "                   (p.get_x() + p.get_width() / 2., p.get_height()), \n",
    "                   ha = 'center', va = 'center', size=25, \n",
    "                   xytext = (0, -12), \n",
    "                   textcoords = 'offset points')\n",
    "# plt.xlabel('Disease type', size=15)\n",
    "plt.ylabel('Fraction of patients', size=22)\n",
    "plt.tick_params(axis='x', labelsize=22)\n",
    "plt.tick_params(axis='y', labelsize=22)\n",
    "plt.grid(linestyle=':', axis='y')\n",
    "# plt.savefig(\"patient_category_210602.png\")"
   ]
  },
  {
   "cell_type": "code",
   "execution_count": null,
   "metadata": {},
   "outputs": [],
   "source": [
    "exp = clean_all_table['discharge_disposition_name_conv'] == 0\n",
    "\n",
    "expired = clean_all_table.loc[exp, 'pt_category']\n",
    "survived = clean_all_table.loc[~exp, 'pt_category']\n",
    "\n",
    "e = expired.value_counts()\n",
    "s = survived.value_counts()"
   ]
  },
  {
   "cell_type": "code",
   "execution_count": null,
   "metadata": {},
   "outputs": [],
   "source": [
    "# from scipy.stats import chi2_contingency\n",
    "# contingency = [[e[0], s[0]], [e[1], s[1]], [e[2], s[2]]]\n",
    "# chi2, pvalue, dof, ex = chi2_contingency(np.array(contingency))\n",
    "# print(chi2, pvalue, dof)"
   ]
  },
  {
   "cell_type": "code",
   "execution_count": null,
   "metadata": {},
   "outputs": [],
   "source": [
    "hap_expired = list((expired == 'HAP/VAP').astype(int))\n",
    "hap_survived = list((survived == 'HAP/VAP').astype(int))\n",
    "\n",
    "boot_hap_expired = np.random.choice(hap_expired, size=(10000,len(hap_expired)), replace=True)\n",
    "boot_hap_survived = np.random.choice(hap_survived, size=(10000,len(hap_survived)), replace=True)\n",
    "\n",
    "\n",
    "cap_expired = list((expired == 'CAP').astype(int))\n",
    "cap_survived = list((survived == 'CAP').astype(int))\n",
    "\n",
    "boot_cap_expired = np.random.choice(cap_expired, size=(10000,len(cap_expired)), replace=True)\n",
    "boot_cap_survived = np.random.choice(cap_survived, size=(10000,len(cap_survived)), replace=True)\n",
    "\n",
    "\n",
    "non_expired = list((expired == 'non').astype(int))\n",
    "non_survived = list((survived == 'non').astype(int))\n",
    "\n",
    "boot_non_expired = np.random.choice(non_expired, size=(10000,len(non_expired)), replace=True)\n",
    "boot_non_survived = np.random.choice(non_survived, size=(10000,len(non_survived)), replace=True)"
   ]
  },
  {
   "cell_type": "code",
   "execution_count": null,
   "metadata": {},
   "outputs": [],
   "source": [
    "expired_means = [np.mean(np.mean(boot_hap_expired,axis=1)),\n",
    "                 np.mean(np.mean(boot_cap_expired,axis=1)),\n",
    "                 np.mean(np.mean(boot_non_expired,axis=1))]\n",
    "\n",
    "expired_CIs = np.array([[expired_means[0] - np.percentile(np.mean(boot_hap_expired,axis=1), 0.5),\n",
    "                         expired_means[1] - np.percentile(np.mean(boot_cap_expired, axis=1), 0.5),\n",
    "                         expired_means[2] - np.percentile(np.mean(boot_non_expired, axis=1), 0.5)],\n",
    "                        [np.percentile(np.mean(boot_hap_expired,axis=1), 99.5) - expired_means[0],\n",
    "                         np.percentile(np.mean(boot_cap_expired, axis=1), 99.5) - expired_means[1],\n",
    "                         np.percentile(np.mean(boot_non_expired, axis=1), 99.5) - expired_means[2]]])\n",
    "\n",
    "\n",
    "survived_means = [np.mean(np.mean(boot_hap_survived, axis=1)),\n",
    "                     np.mean(np.mean(boot_cap_survived, axis=1)),\n",
    "                     np.mean(np.mean(boot_non_survived, axis=1))]\n",
    "\n",
    "survived_CIs = np.array([[survived_means[0] - np.percentile(np.mean(boot_hap_survived,axis=1), 0.5),\n",
    "                             survived_means[1] - np.percentile(np.mean(boot_cap_survived, axis=1), 0.5),\n",
    "                             survived_means[2] - np.percentile(np.mean(boot_non_survived, axis=1), 0.5)],\n",
    "                            [np.percentile(np.mean(boot_hap_survived,axis=1), 99.5) - survived_means[0],\n",
    "                             np.percentile(np.mean(boot_cap_survived, axis=1), 99.5) - survived_means[1],\n",
    "                             np.percentile(np.mean(boot_non_survived, axis=1), 99.5) - survived_means[2]]])"
   ]
  },
  {
   "cell_type": "code",
   "execution_count": null,
   "metadata": {},
   "outputs": [],
   "source": [
    "width=0.25\n",
    "x = np.arange(len(category))\n",
    "\n",
    "fig7, ax4 = plt.subplots(1,1,figsize=(8,8), constrained_layout=True)\n",
    "ax4.bar(x - width/2, expired_means, width, yerr=expired_CIs, label='Expired', color='r')\n",
    "ax4.bar(x + width/2, survived_means, width, yerr=survived_CIs, label='Survived', color='limegreen')\n",
    "\n",
    "ax4.axis((-0.7, 2.7, 0.0, 0.9))\n",
    "\n",
    "ax4.hlines(df2.loc[df2['Disease type']=='HAP/VAP', 'counts']/(df2['counts'].sum()),\n",
    "           x[0]-1.5*width, x[0]+1.5*width,\n",
    "           color='indigo', linestyles='dashed', label='Cohort category fractions')\n",
    "ax4.hlines(df2.loc[df2['Disease type']=='CAP', 'counts']/(df2['counts'].sum()),\n",
    "           x[1]-1.5*width, x[1]+1.5*width,\n",
    "           color='indigo', linestyles='dashed')\n",
    "ax4.hlines(df2.loc[df2['Disease type']=='non', 'counts']/(df2['counts'].sum()),\n",
    "           x[2]-1.5*width, x[2]+1.5*width,\n",
    "           color='indigo', linestyles='dashed')\n",
    "\n",
    "ax4.tick_params(axis='x', labelsize=20)\n",
    "ax4.tick_params(axis='y', labelsize=20)\n",
    "ax4.set_xticks(x)\n",
    "ax4.set_xticklabels(category)\n",
    "ax4.set_ylabel('Pneumonia category fraction', size=20)\n",
    "ax4.legend(loc='best', fontsize=15)\n",
    "\n",
    "# plt.savefig(\"categorias.png\")"
   ]
  },
  {
   "cell_type": "code",
   "execution_count": null,
   "metadata": {},
   "outputs": [],
   "source": [
    "exp = clean_all_table['discharge_disposition_name_conv'] == 0\n",
    "trans = clean_all_table['discharge_disposition_name_conv'] == 1\n",
    "hom = clean_all_table['discharge_disposition_name_conv'] == 2\n",
    "\n",
    "expired = clean_all_table.loc[exp, 'pt_category']\n",
    "transferred = clean_all_table.loc[trans, 'pt_category']\n",
    "home = clean_all_table.loc[hom, 'pt_category']\n",
    "\n",
    "e = expired.value_counts()\n",
    "t = transferred.value_counts()\n",
    "h = home.value_counts()"
   ]
  },
  {
   "cell_type": "code",
   "execution_count": null,
   "metadata": {},
   "outputs": [],
   "source": [
    "hap_expired = list((expired == 'HAP/VAP').astype(int))\n",
    "hap_transferred = list((transferred == 'HAP/VAP').astype(int))\n",
    "hap_home = list((home == 'HAP/VAP').astype(int))\n",
    "\n",
    "boot_hap_expired = np.random.choice(hap_expired, size=(10000,len(hap_expired)), replace=True)\n",
    "boot_hap_transferred = np.random.choice(hap_transferred, size=(10000,len(hap_transferred)), replace=True)\n",
    "boot_hap_home = np.random.choice(hap_home, size=(10000,len(hap_home)), replace=True)\n",
    "\n",
    "\n",
    "cap_expired = list((expired == 'CAP').astype(int))\n",
    "cap_transferred = list((transferred == 'CAP').astype(int))\n",
    "cap_home = list((home == 'CAP').astype(int))\n",
    "\n",
    "boot_cap_expired = np.random.choice(cap_expired, size=(10000,len(cap_expired)), replace=True)\n",
    "boot_cap_transferred = np.random.choice(cap_transferred, size=(10000,len(cap_transferred)), replace=True)\n",
    "boot_cap_home = np.random.choice(cap_home, size=(10000,len(cap_home)), replace=True)\n",
    "\n",
    "\n",
    "non_expired = list((expired == 'non').astype(int))\n",
    "non_transferred = list((transferred == 'non').astype(int))\n",
    "non_home = list((home == 'non').astype(int))\n",
    "\n",
    "boot_non_expired = np.random.choice(non_expired, size=(10000,len(non_expired)), replace=True)\n",
    "boot_non_transferred = np.random.choice(non_transferred, size=(10000,len(non_transferred)), replace=True)\n",
    "boot_non_home = np.random.choice(non_home, size=(10000,len(non_home)), replace=True)"
   ]
  },
  {
   "cell_type": "markdown",
   "metadata": {},
   "source": [
    "If you want to do bar plots where the xticks are \"expired, transferred and sent home\", organize means and CIs by pneumonia category"
   ]
  },
  {
   "cell_type": "code",
   "execution_count": null,
   "metadata": {},
   "outputs": [],
   "source": [
    "hap_means = [np.mean(np.mean(boot_hap_expired,axis=1)),\n",
    "         np.mean(np.mean(boot_hap_transferred, axis=1)),\n",
    "         np.mean(np.mean(boot_hap_home, axis=1))]\n",
    "\n",
    "hap_CIs = np.array([[hap_means[0] - np.percentile(np.mean(boot_hap_expired,axis=1), 0.5),\n",
    "                 hap_means[1] - np.percentile(np.mean(boot_hap_transferred, axis=1), 0.5),\n",
    "                 hap_means[2] - np.percentile(np.mean(boot_hap_home, axis=1), 0.5)],\n",
    "                [np.percentile(np.mean(boot_hap_expired,axis=1), 99.5) - hap_means[0],\n",
    "                 np.percentile(np.mean(boot_hap_transferred, axis=1), 99.5) - hap_means[1],\n",
    "                 np.percentile(np.mean(boot_hap_home, axis=1), 99.5) - hap_means[2]]])\n",
    "\n",
    "\n",
    "cap_means = [np.mean(np.mean(boot_cap_expired,axis=1)),\n",
    "         np.mean(np.mean(boot_cap_transferred, axis=1)),\n",
    "         np.mean(np.mean(boot_cap_home, axis=1))]\n",
    "\n",
    "cap_CIs = np.array([[cap_means[0] - np.percentile(np.mean(boot_cap_expired,axis=1), 0.5),\n",
    "                 cap_means[1] - np.percentile(np.mean(boot_cap_transferred, axis=1), 0.5),\n",
    "                 cap_means[2] - np.percentile(np.mean(boot_cap_home, axis=1), 0.5)],\n",
    "                [np.percentile(np.mean(boot_cap_expired,axis=1), 99.5) - cap_means[0],\n",
    "                 np.percentile(np.mean(boot_cap_transferred, axis=1), 99.5) - cap_means[1],\n",
    "                 np.percentile(np.mean(boot_cap_home, axis=1), 99.5) - cap_means[2]]])\n",
    "\n",
    "\n",
    "non_means = [np.mean(np.mean(boot_non_expired,axis=1)),\n",
    "         np.mean(np.mean(boot_non_transferred, axis=1)),\n",
    "         np.mean(np.mean(boot_non_home, axis=1))]\n",
    "\n",
    "non_CIs = np.array([[non_means[0] - np.percentile(np.mean(boot_non_expired,axis=1), 0.5),\n",
    "                 non_means[1] - np.percentile(np.mean(boot_non_transferred, axis=1), 0.5),\n",
    "                 non_means[2] - np.percentile(np.mean(boot_non_home, axis=1), 0.5)],\n",
    "                [np.percentile(np.mean(boot_non_expired,axis=1), 99.5) - non_means[0],\n",
    "                 np.percentile(np.mean(boot_non_transferred, axis=1), 99.5) - non_means[1],\n",
    "                 np.percentile(np.mean(boot_non_home, axis=1), 99.5) - non_means[2]]])"
   ]
  },
  {
   "cell_type": "markdown",
   "metadata": {},
   "source": [
    "However, if you want to do bar plots where the xticks are \"HAP/VAP, CAP, Non-Pneumonia\", organize means and CIs by discharges"
   ]
  },
  {
   "cell_type": "code",
   "execution_count": null,
   "metadata": {},
   "outputs": [],
   "source": [
    "expired_means = [np.mean(np.mean(boot_hap_expired,axis=1)),\n",
    "                 np.mean(np.mean(boot_cap_expired,axis=1)),\n",
    "                 np.mean(np.mean(boot_non_expired,axis=1))]\n",
    "\n",
    "expired_CIs = np.array([[expired_means[0] - np.percentile(np.mean(boot_hap_expired,axis=1), 0.5),\n",
    "                         expired_means[1] - np.percentile(np.mean(boot_cap_expired, axis=1), 0.5),\n",
    "                         expired_means[2] - np.percentile(np.mean(boot_non_expired, axis=1), 0.5)],\n",
    "                        [np.percentile(np.mean(boot_hap_expired,axis=1), 99.5) - expired_means[0],\n",
    "                         np.percentile(np.mean(boot_cap_expired, axis=1), 99.5) - expired_means[1],\n",
    "                         np.percentile(np.mean(boot_non_expired, axis=1), 99.5) - expired_means[2]]])\n",
    "\n",
    "\n",
    "transferred_means = [np.mean(np.mean(boot_hap_transferred, axis=1)),\n",
    "                     np.mean(np.mean(boot_cap_transferred, axis=1)),\n",
    "                     np.mean(np.mean(boot_non_transferred, axis=1))]\n",
    "\n",
    "transferred_CIs = np.array([[transferred_means[0] - np.percentile(np.mean(boot_hap_transferred,axis=1), 0.5),\n",
    "                             transferred_means[1] - np.percentile(np.mean(boot_cap_transferred, axis=1), 0.5),\n",
    "                             transferred_means[2] - np.percentile(np.mean(boot_non_transferred, axis=1), 0.5)],\n",
    "                            [np.percentile(np.mean(boot_hap_transferred,axis=1), 99.5) - transferred_means[0],\n",
    "                             np.percentile(np.mean(boot_cap_transferred, axis=1), 99.5) - transferred_means[1],\n",
    "                             np.percentile(np.mean(boot_non_transferred, axis=1), 99.5) - transferred_means[2]]])\n",
    "\n",
    "\n",
    "home_means = [np.mean(np.mean(boot_hap_home, axis=1)),\n",
    "              np.mean(np.mean(boot_cap_home, axis=1)),\n",
    "              np.mean(np.mean(boot_non_home, axis=1))]\n",
    "\n",
    "home_CIs = np.array([[home_means[0] - np.percentile(np.mean(boot_hap_home,axis=1), 0.5),\n",
    "                      home_means[1] - np.percentile(np.mean(boot_cap_home, axis=1), 0.5),\n",
    "                      home_means[2] - np.percentile(np.mean(boot_non_home, axis=1), 0.5)],\n",
    "                     [np.percentile(np.mean(boot_hap_home,axis=1), 99.5) - home_means[0],\n",
    "                      np.percentile(np.mean(boot_cap_home, axis=1), 99.5) - home_means[1],\n",
    "                      np.percentile(np.mean(boot_non_home, axis=1), 99.5) - home_means[2]]])"
   ]
  },
  {
   "cell_type": "code",
   "execution_count": null,
   "metadata": {},
   "outputs": [],
   "source": [
    "# pneum_breakdown = []\n",
    "\n",
    "# discharges = [0, 1, 2]\n",
    "# categories = list(clean_all_table['pt_category'].drop_duplicates())\n",
    "\n",
    "# for outcome in discharges:\n",
    "#     f = clean_all_table['discharge_disposition_name_conv'] == outcome\n",
    "#     tmp_df = clean_all_table.loc[f]\n",
    "    \n",
    "#     for pneumonia_episode in categories:\n",
    "#         g = tmp_df['pt_category'] == pneumonia_episode\n",
    "#         filtered_df = tmp_df.loc[g]\n",
    "        \n",
    "#         if outcome == 0:\n",
    "#             pneum_breakdown.append({'Counts': len(filtered_df),\n",
    "#                                     'Fraction': len(filtered_df)/len(expired),\n",
    "#                                     'Category': pneumonia_episode,\n",
    "#                                     'Discharge': outcome})\n",
    "#         elif outcome == 1:\n",
    "#             pneum_breakdown.append({'Counts': len(filtered_df),\n",
    "#                                     'Fraction': len(filtered_df)/len(transferred),\n",
    "#                                     'Category': pneumonia_episode,\n",
    "#                                     'Discharge': outcome})\n",
    "#         else:\n",
    "#             pneum_breakdown.append({'Counts': len(filtered_df),\n",
    "#                                     'Fraction': len(filtered_df)/len(home),\n",
    "#                                     'Category': pneumonia_episode,\n",
    "#                                     'Discharge': outcome})\n",
    "        \n",
    "# pneum_category = pd.DataFrame(pneum_breakdown).replace(['non', 0, 1, 2],\n",
    "#                                                        ['Non-Pneumonia', 'Expired', 'Transferred', 'Sent Home'])"
   ]
  },
  {
   "cell_type": "code",
   "execution_count": null,
   "metadata": {},
   "outputs": [],
   "source": [
    "width=0.25\n",
    "x = np.arange(len(category))\n",
    "\n",
    "fig7, ax4 = plt.subplots(1,1,figsize=(8,8), constrained_layout=True)\n",
    "ax4.bar(x-width, expired_means, width, yerr=expired_CIs, label='Expired', color='r')\n",
    "ax4.bar(x, transferred_means, width, yerr=transferred_CIs, label='Transferred', color='orange')\n",
    "ax4.bar(x + width, home_means, width, yerr=home_CIs, label='Sent home', color='g')\n",
    "\n",
    "ax4.axis((-0.7, 2.7, 0.0, 0.9))\n",
    "\n",
    "ax4.hlines(df2.loc[df2['Disease type']=='HAP/VAP', 'counts']/(df2['counts'].sum()),\n",
    "           x[0]-1.5*width, x[0]+1.5*width,\n",
    "           color='indigo', linestyles='dashed', label='Cohort category fractions')\n",
    "ax4.hlines(df2.loc[df2['Disease type']=='CAP', 'counts']/(df2['counts'].sum()),\n",
    "           x[1]-1.5*width, x[1]+1.5*width,\n",
    "           color='indigo', linestyles='dashed')\n",
    "ax4.hlines(df2.loc[df2['Disease type']=='non', 'counts']/(df2['counts'].sum()),\n",
    "           x[2]-1.5*width, x[2]+1.5*width,\n",
    "           color='indigo', linestyles='dashed')\n",
    "\n",
    "ax4.tick_params(axis='x', labelsize=20)\n",
    "ax4.tick_params(axis='y', labelsize=20)\n",
    "ax4.set_xticks(x)\n",
    "ax4.set_xticklabels(category)\n",
    "ax4.set_ylabel('Pneumonia category fraction', size=20)\n",
    "ax4.legend(loc='best', fontsize=15)\n",
    "\n",
    "# plt.savefig(\"patient_type_breakdown_210602.png\")"
   ]
  },
  {
   "cell_type": "code",
   "execution_count": null,
   "metadata": {},
   "outputs": [],
   "source": [
    "# fig8, axes1 = plt.subplots(ncols=2, nrows=1, figsize=(14, 6), constrained_layout=True)\n",
    "# splot=sns.barplot(x=\"Disease type\", y=\"counts\", data=df2, ax=axes1[0])\n",
    "# splot.set(xlabel=None)\n",
    "\n",
    "# for p in splot.patches:\n",
    "#     splot.annotate(format(p.get_height(), '.0f'), \n",
    "#                    (p.get_x() + p.get_width() / 2., p.get_height()), \n",
    "#                    ha = 'center', va = 'center', size=25, \n",
    "#                    xytext = (0, -12), \n",
    "#                    textcoords = 'offset points')\n",
    "# axes1[0].set_ylabel('Number of patients', size=22)\n",
    "# axes1[0].tick_params(axis='x', labelsize=22)\n",
    "# axes1[0].tick_params(left=False, labelleft=False)\n",
    "# axes1[0].text(0.0, 1.06, 'a', transform=axes1[0].transAxes,\n",
    "#       fontsize=23, va='top')\n",
    "\n",
    "# axes1[1].bar(labels, share_HAP, width=0.35, label='HAP/VAP')\n",
    "# axes1[1].bar(labels, share_CAP, width=0.35, bottom=share_HAP, label='CAP')\n",
    "# axes1[1].bar(labels, share_non, width=0.35, bottom=height3, label='Non-Pneumonia')\n",
    "# axes1[1].tick_params(axis='x', labelsize=22)\n",
    "# axes1[1].tick_params(axis='y', labelsize=22)\n",
    "# axes1[1].legend(loc='best', fontsize=11)\n",
    "# axes1[1].grid(linestyle=':', axis='y')\n",
    "# axes1[1].set_ylabel('Category fraction', size=22)\n",
    "# axes1[1].axis((-0.5, 2.5, 0.0, 1.25))\n",
    "# axes1[1].text(0, 1.06, 'b', transform=axes1[1].transAxes,\n",
    "#       fontsize=23, va='top')\n",
    "\n",
    "# # plt.savefig(\"patient_type_breakdown_210602.png\")\n",
    "# plt.show()"
   ]
  },
  {
   "cell_type": "code",
   "execution_count": null,
   "metadata": {},
   "outputs": [],
   "source": [
    "pd.set_option('display.max_rows', None)\n",
    "pd.set_option('display.max_columns', None)\n",
    "pd.set_option('display.width', None)\n",
    "pd.set_option('display.max_colwidth', None)"
   ]
  },
  {
   "cell_type": "code",
   "execution_count": null,
   "metadata": {
    "scrolled": false
   },
   "outputs": [],
   "source": [
    "re = clean_all_table.loc[clean_all_table['pt_category']=='HAP']\n",
    "HAP_LOS = list(re['hospital_los_days'])\n",
    "\n",
    "re = clean_all_table.loc[clean_all_table['pt_category']=='CAP']\n",
    "CAP_LOS = list(re['hospital_los_days'])\n",
    "\n",
    "re = clean_all_table.loc[clean_all_table['pt_category']=='non']\n",
    "non_LOS = list(re['hospital_los_days'])"
   ]
  },
  {
   "cell_type": "code",
   "execution_count": null,
   "metadata": {},
   "outputs": [],
   "source": [
    "cdf_HAP = flm_tools.get_cdfs(HAP_LOS)\n",
    "cdf_CAP = flm_tools.get_cdfs(CAP_LOS)\n",
    "cdf_non = flm_tools.get_cdfs(non_LOS)"
   ]
  },
  {
   "cell_type": "code",
   "execution_count": null,
   "metadata": {},
   "outputs": [],
   "source": [
    "clean_all_table = flm_tools.get_cleaned_data(outcome_encoding='three')\n",
    "\n",
    "diagnosis = patients.modified_edw_rc('pneumonia_episode_category_assessment', revision='latest',\n",
    "                                     columns=['case_number', 'clin_cap_viral_npop', 'pneu_assess_dt', 'pt_category'])\n",
    "\n",
    "diagnosis = feature_conversion.shorten_pt_category(diagnosis)\n",
    "diagnosis = diagnosis.dropna(subset=['pt_category'])\n",
    "diagnosis['pt_category'] = diagnosis['pt_category'].replace({'VAP': 'HAP'})\n",
    "diagnosis = diagnosis.drop_duplicates(subset=['case_number'], keep='last')\n",
    "\n",
    "clean_all_table = pd.merge(clean_all_table, diagnosis)"
   ]
  },
  {
   "cell_type": "code",
   "execution_count": null,
   "metadata": {},
   "outputs": [],
   "source": [
    "measurements_during_encounter = clean_all_table.set_index('case_number')\n",
    "alt_table = []\n",
    "for case in measurements_during_encounter.index.unique():\n",
    "    try:\n",
    "        LOS = measurements_during_encounter.loc[case, 'hospital_los_days'].unique()[0]\n",
    "    except AttributeError:\n",
    "        LOS = measurements_during_encounter.loc[case, 'hospital_los_days']\n",
    "    \n",
    "    try:\n",
    "        num_of_tests = len(measurements_during_encounter.loc[case, 'measurement_concept_name'].unique())\n",
    "    except AttributeError:\n",
    "        num_of_tests = len([measurements_during_encounter.loc[case, 'measurement_concept_name']])\n",
    "        \n",
    "    norm_num = num_of_tests/LOS\n",
    "    \n",
    "    try:\n",
    "        discharge = measurements_during_encounter.loc[case,'discharge_disposition_name_conv'].unique()[0]\n",
    "    except AttributeError:\n",
    "        discharge = measurements_during_encounter.loc[case,'discharge_disposition_name_conv']\n",
    "        \n",
    "    rows = {'#_unique_tests': num_of_tests, '#_unique_tests_per_day': norm_num, 'outcome': discharge, 'LOS': LOS}\n",
    "    alt_table.append(rows)\n",
    "\n",
    "third = pd.DataFrame(alt_table)"
   ]
  },
  {
   "cell_type": "code",
   "execution_count": null,
   "metadata": {},
   "outputs": [],
   "source": [
    "third_tests = []\n",
    "third_tests_norm = []\n",
    "third_LOS = []\n",
    "for out in set(third['outcome']):\n",
    "    f = third['outcome'] == out\n",
    "    third_tests.append(list(third.loc[f, '#_unique_tests']))\n",
    "    third_tests_norm.append(list(third.loc[f, '#_unique_tests_per_day']))\n",
    "    third_LOS.append(list(third.loc[f, 'LOS']))"
   ]
  },
  {
   "cell_type": "code",
   "execution_count": null,
   "metadata": {},
   "outputs": [],
   "source": [
    "cdf_expired = flm_tools.get_survival_fn(third_LOS[0])\n",
    "cdf_transferred = flm_tools.get_survival_fn(third_LOS[1])\n",
    "cdf_home = flm_tools.get_survival_fn(third_LOS[2])"
   ]
  },
  {
   "cell_type": "code",
   "execution_count": null,
   "metadata": {},
   "outputs": [],
   "source": [
    "fig9, ejes = plt.subplots(ncols=1, nrows=1, figsize=(8,8), constrained_layout=True)\n",
    "ejes.step(cdf_expired[0], cdf_expired[1], color='r', label='Expired')\n",
    "ejes.step(cdf_transferred[0], cdf_transferred[1], color='orange', label=\"Transferred\")\n",
    "ejes.step(cdf_home[0], cdf_home[1], color='green', label=\"Sent home\")\n",
    "ejes.set_xlabel('Length of Stay (days)', fontsize=20)\n",
    "ejes.set_ylabel('Fraction of patients remaining', fontsize=20)\n",
    "ejes.tick_params(axis='x', labelsize=20)\n",
    "ejes.tick_params(axis='y', labelsize=20)\n",
    "ejes.grid(linestyle=':')\n",
    "ejes.legend(loc='best', fontsize=15)\n",
    "\n",
    "# ejes[1].step(cdf_HAP[0],cdf_HAP[1], label='HAP/VAP')\n",
    "# ejes[1].step(cdf_CAP[0],cdf_CAP[1], label=\"CAP\")\n",
    "# ejes[1].step(cdf_non[0],cdf_non[1], label=\"Non-pneumonia\")\n",
    "# ejes[1].set_xlabel('Length of stay (days)', fontsize=20)\n",
    "# ejes[1].tick_params(axis='x', labelsize=20)\n",
    "# ejes[1].tick_params(left=False, labelleft=False)\n",
    "# ejes[1].grid(linestyle=':')\n",
    "# ejes[1].legend(loc='best', fontsize=14)\n",
    "\n",
    "# plt.savefig(\"LOS_comparison_210602.png\")"
   ]
  },
  {
   "cell_type": "code",
   "execution_count": null,
   "metadata": {},
   "outputs": [],
   "source": [
    "fig10, ejes1 = plt.subplots(ncols=2, nrows=2, figsize=(14, 14))\n",
    "\n",
    "cdf_expired = flm_tools.get_survival_fn(expired_pt)\n",
    "cdf_trans = flm_tools.get_survival_fn(trans_pt)\n",
    "cdf_home = flm_tools.get_survival_fn(home_pt)\n",
    "\n",
    "ejes1[0,0].step(cdf_expired[0],cdf_expired[1], color='red', label='Expired')\n",
    "ejes1[0,0].step(cdf_trans[0],cdf_trans[1], color='orange', label='Transferred')\n",
    "ejes1[0,0].step(cdf_home[0],cdf_home[1], color='green', label=\"Sent Home\")\n",
    "ejes1[0,0].set_xlabel('Patient age at study enrollment (years)', fontsize=20)\n",
    "ejes1[0,0].set_ylabel('Fraction of patients remaining', fontsize=20)\n",
    "ejes1[0,0].tick_params(axis='x', labelsize=20)\n",
    "ejes1[0,0].tick_params(axis='y', labelsize=20)\n",
    "ejes1[0,0].grid(linestyle=':')\n",
    "ejes1[0,0].legend(loc='best', fontsize=15)\n",
    "\n",
    "\n",
    "ejes1[0,1].bar(labels_ternary, male_means, yerr=male_CIs, color=['r','orange','g'])\n",
    "ejes1[0,1].axis((-0.7, 2.7, 0.0, 0.9))\n",
    "ejes1[0,1].hlines(df1.loc[0,'fraction'], ejes1[0,1].get_xlim()[0], ejes1[0,1].get_xlim()[-1],\n",
    "                  color='indigo',\n",
    "                  linestyles='dashed',\n",
    "                  label=\"Cohort's male fraction (0.593)\")\n",
    "ejes1[0,1].tick_params(axis='x', labelsize=20)\n",
    "ejes1[0,1].tick_params(axis='y', labelsize=20)\n",
    "ejes1[0,1].set_ylabel('Fraction male', size=20)\n",
    "ejes1[0,1].legend(loc='upper left', fontsize=15)\n",
    "\n",
    "\n",
    "cdf_expired = flm_tools.get_survival_fn(third_LOS[0])\n",
    "cdf_transferred = flm_tools.get_survival_fn(third_LOS[1])\n",
    "cdf_home = flm_tools.get_survival_fn(third_LOS[2])\n",
    "\n",
    "ejes1[1,0].step(cdf_expired[0], cdf_expired[1], color='red', label='Expired')\n",
    "ejes1[1,0].step(cdf_transferred[0], cdf_transferred[1], color='orange', label=\"Transferred\")\n",
    "ejes1[1,0].step(cdf_home[0], cdf_home[1], color='green', label=\"Sent Home\")\n",
    "ejes1[1,0].set_xlabel('Length of Stay (days)', fontsize=20)\n",
    "ejes1[1,0].set_ylabel('Fraction of patients remaining', fontsize=20)\n",
    "ejes1[1,0].tick_params(axis='x', labelsize=20)\n",
    "ejes1[1,0].tick_params(axis='y', labelsize=20)\n",
    "ejes1[1,0].grid(linestyle=':')\n",
    "ejes1[1,0].legend(loc='best', fontsize=15)\n",
    "\n",
    "\n",
    "\n",
    "width=0.25\n",
    "x = np.arange(len(category))\n",
    "\n",
    "ejes1[1,1].bar(x-width, expired_means, width, yerr=expired_CIs, label='Expired', color='r')\n",
    "ejes1[1,1].bar(x, transferred_means, width, yerr=transferred_CIs, label='Transferred', color='orange')\n",
    "ejes1[1,1].bar(x + width, home_means, width, yerr=home_CIs, label='Sent Home', color='g')\n",
    "\n",
    "ejes1[1,1].axis((-0.7, 2.7, 0.0, 0.9))\n",
    "\n",
    "ejes1[1,1].hlines(df2.loc[df2['Disease type']=='HAP/VAP', 'counts']/(df2['counts'].sum()),\n",
    "           x[0]-1.5*width, x[0]+1.5*width,\n",
    "           color='indigo', linestyles='dashed', label='Cohort category fractions')\n",
    "ejes1[1,1].hlines(df2.loc[df2['Disease type']=='CAP', 'counts']/(df2['counts'].sum()),\n",
    "           x[1]-1.5*width, x[1]+1.5*width,\n",
    "           color='indigo', linestyles='dashed')\n",
    "ejes1[1,1].hlines(df2.loc[df2['Disease type']=='non', 'counts']/(df2['counts'].sum()),\n",
    "           x[2]-1.5*width, x[2]+1.5*width,\n",
    "           color='indigo', linestyles='dashed')\n",
    "\n",
    "ejes1[1,1].tick_params(axis='x', labelsize=20)\n",
    "ejes1[1,1].tick_params(axis='y', labelsize=20)\n",
    "ejes1[1,1].set_xticks(x)\n",
    "ejes1[1,1].set_xticklabels(category)\n",
    "ejes1[1,1].set_ylabel('Pneumonia category fraction', size=20)\n",
    "ejes1[1,1].legend(loc='best', fontsize=15)\n",
    "\n",
    "fig10.tight_layout()\n",
    "# plt.savefig(\"fig_patients_outcomes.png\")"
   ]
  }
 ],
 "metadata": {
  "kernelspec": {
   "display_name": "Python 3 (ipykernel)",
   "language": "python",
   "name": "python3"
  },
  "language_info": {
   "codemirror_mode": {
    "name": "ipython",
    "version": 3
   },
   "file_extension": ".py",
   "mimetype": "text/x-python",
   "name": "python",
   "nbconvert_exporter": "python",
   "pygments_lexer": "ipython3",
   "version": "3.8.12"
  }
 },
 "nbformat": 4,
 "nbformat_minor": 4
}
