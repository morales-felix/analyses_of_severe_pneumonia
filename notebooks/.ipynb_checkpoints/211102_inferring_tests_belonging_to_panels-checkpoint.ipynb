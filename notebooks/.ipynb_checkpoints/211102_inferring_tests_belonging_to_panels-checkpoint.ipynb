{
 "cells": [
  {
   "cell_type": "code",
   "execution_count": 1,
   "id": "7d6ac77a",
   "metadata": {},
   "outputs": [
    {
     "data": {
      "text/html": [
       "<style>.container { width:90% !important; }</style>"
      ],
      "text/plain": [
       "<IPython.core.display.HTML object>"
      ]
     },
     "metadata": {},
     "output_type": "display_data"
    }
   ],
   "source": [
    "from IPython.core.display import display, HTML\n",
    "display(HTML(\"<style>.container { width:90% !important; }</style>\"))"
   ]
  },
  {
   "cell_type": "code",
   "execution_count": 2,
   "id": "41f2b407",
   "metadata": {},
   "outputs": [],
   "source": [
    "import math\n",
    "import numpy as np\n",
    "import matplotlib.pyplot as plt\n",
    "import pandas as pd\n",
    "import seaborn as sns\n",
    "import json"
   ]
  },
  {
   "cell_type": "code",
   "execution_count": 3,
   "id": "9fc15812",
   "metadata": {},
   "outputs": [],
   "source": [
    "pd.set_option('display.max_rows', None)\n",
    "pd.set_option('display.max_columns', None)\n",
    "pd.set_option('display.width', None)\n",
    "# pd.set_option('display.max_colwidth', None)"
   ]
  },
  {
   "cell_type": "code",
   "execution_count": 4,
   "id": "59f6f208",
   "metadata": {},
   "outputs": [],
   "source": [
    "import sys\n",
    "\n",
    "sys.path.append('./../../general/src')\n",
    "\n",
    "from access_script_data import patients\n",
    "\n",
    "sys.path.append('./../../tst/src/')\n",
    "import utils\n",
    "import feature_conversion\n",
    "\n",
    "sys.path.append('./../../flm/src/')\n",
    "import flm_tools"
   ]
  },
  {
   "cell_type": "code",
   "execution_count": 5,
   "id": "42acf667",
   "metadata": {},
   "outputs": [],
   "source": [
    "figure_output_directory = r'../file_outputs_from_notebooks/figures/'\n",
    "data_output_directory = r'../file_outputs_from_notebooks/data/'\n",
    "file_output_directory = r'../file_outputs_from_notebooks/'\n",
    "unmapped_loincs_output_directory = r'../file_outputs_from_notebooks/unmapped_loinc_codes_of_interest/'"
   ]
  },
  {
   "cell_type": "code",
   "execution_count": 6,
   "id": "cd236e78",
   "metadata": {},
   "outputs": [],
   "source": [
    "def flag_if_present_in_script(row):\n",
    "    if row['Loinc'] in script_loinc_codes:\n",
    "        flag = True\n",
    "    else:\n",
    "        flag = False\n",
    "    \n",
    "    return flag\n",
    "\n",
    "def flag_if_test_is_mapped_to_HPO(row):\n",
    "    if row['Loinc'] in script_loinc_codes and row['Loinc'] in unmapped_tests:\n",
    "        flag = False\n",
    "    elif row['Loinc'] in script_loinc_codes and row['Loinc'] not in unmapped_tests:\n",
    "        flag = True\n",
    "    else:\n",
    "        flag = None\n",
    "        \n",
    "    return flag"
   ]
  },
  {
   "cell_type": "code",
   "execution_count": 7,
   "id": "d76ab959",
   "metadata": {},
   "outputs": [],
   "source": [
    "encounter_only = True"
   ]
  },
  {
   "cell_type": "markdown",
   "id": "7c192ba9",
   "metadata": {},
   "source": [
    "Reading in all relevant tables"
   ]
  },
  {
   "cell_type": "code",
   "execution_count": 8,
   "id": "3d058eaa",
   "metadata": {},
   "outputs": [
    {
     "name": "stderr",
     "output_type": "stream",
     "text": [
      "C:\\Users\\FLM9508\\.conda\\envs\\sam\\lib\\site-packages\\IPython\\core\\interactiveshell.py:3444: DtypeWarning: Columns (8,16,17,25,28,38,40,42) have mixed types.Specify dtype option on import or set low_memory=False.\n",
      "  exec(code_obj, self.user_global_ns, self.user_ns)\n"
     ]
    }
   ],
   "source": [
    "# Master LOINC file\n",
    "loinc_df = pd.read_csv(\"../Loinc.csv\")\n",
    "\n",
    "# LOINC file listing panels\n",
    "panels_df = pd.read_csv(\"../PanelsAndForms_modified.csv\", usecols=['ParentLoinc',\n",
    "                                                                   'ParentName',\n",
    "                                                                   'SEQUENCE',\n",
    "                                                                   'Loinc',\n",
    "                                                                   'LoincName'])\n",
    "if encounter_only:\n",
    "    # All tests/measurements given during SCRIPT encounters\n",
    "    script_measurement = flm_tools.get_cleaned_data(multiple_visits='all')\n",
    "    script_measurement = script_measurement[['measurement_vocabulary_id',\n",
    "                                             'measurement_concept_code',\n",
    "                                             'measurement_concept_name']].drop_duplicates()\n",
    "else:\n",
    "    script_measurement = patients.modified_edw_rc('measurement',\n",
    "                                                  columns = ['measurement_vocabulary_id',\n",
    "                                                             'measurement_concept_code',\n",
    "                                                             'measurement_concept_name']).drop_duplicates()\n",
    "\n",
    "# Filtering SCRIPT measurements to only those identified through LOINC (can't map to HPO otherwise)\n",
    "f = script_measurement['measurement_vocabulary_id'] == \"LOINC\"\n",
    "script_measurement = script_measurement.loc[f]\n",
    "\n",
    "# Nice table\n",
    "script_measurement = script_measurement[['measurement_concept_code', 'measurement_concept_name']].drop_duplicates()"
   ]
  },
  {
   "cell_type": "markdown",
   "id": "bcf64347",
   "metadata": {},
   "source": [
    "# Search real name of a LOINC code"
   ]
  },
  {
   "cell_type": "code",
   "execution_count": 9,
   "id": "fcdf9dd1",
   "metadata": {},
   "outputs": [
    {
     "data": {
      "text/plain": [
       "'Respiratory rate'"
      ]
     },
     "execution_count": 9,
     "metadata": {},
     "output_type": "execute_result"
    }
   ],
   "source": [
    "a = loinc_df['LOINC_NUM'] == '9279-1'\n",
    "list(loinc_df.loc[a, 'LONG_COMMON_NAME'])[0]"
   ]
  },
  {
   "cell_type": "markdown",
   "id": "bb389b3c",
   "metadata": {},
   "source": [
    "# Figuring out which LOINC codes from SCRIPT are actually panels, or aren't tests at all"
   ]
  },
  {
   "cell_type": "code",
   "execution_count": 10,
   "id": "09acfc4d",
   "metadata": {},
   "outputs": [],
   "source": [
    "script_loinc_codes = list(script_measurement['measurement_concept_code'].drop_duplicates())"
   ]
  },
  {
   "cell_type": "markdown",
   "id": "1b5b0a76",
   "metadata": {},
   "source": [
    "#### LOINC codes that are panels"
   ]
  },
  {
   "cell_type": "code",
   "execution_count": 11,
   "id": "a908c593",
   "metadata": {},
   "outputs": [],
   "source": [
    "f = panels_df['ParentLoinc'].isin(script_loinc_codes)\n",
    "panel_loincs = list(panels_df.loc[f, 'ParentLoinc'].drop_duplicates())"
   ]
  },
  {
   "cell_type": "markdown",
   "id": "16358392",
   "metadata": {},
   "source": [
    "Removing LOINC codes corresponding to panels from the list of SCRIPT LOINC codes"
   ]
  },
  {
   "cell_type": "code",
   "execution_count": 12,
   "id": "f9a648a6",
   "metadata": {},
   "outputs": [],
   "source": [
    "for i in range(len(panel_loincs)):\n",
    "    script_loinc_codes.remove(panel_loincs[i])"
   ]
  },
  {
   "cell_type": "markdown",
   "id": "1dbbc197",
   "metadata": {},
   "source": [
    "Had previously defined an exhaustive list of LOINC codes that did not map to HPO. The list likely has these panel codes. Removing them as well."
   ]
  },
  {
   "cell_type": "code",
   "execution_count": 13,
   "id": "81903c13",
   "metadata": {},
   "outputs": [
    {
     "name": "stdout",
     "output_type": "stream",
     "text": [
      "24343-6 wasn't in list of unmapped codes!\n"
     ]
    }
   ],
   "source": [
    "with open(data_output_directory+'loinc_codes_full.json', 'r') as infile:\n",
    "    unmapped_tests = json.load(infile)\n",
    "    \n",
    "for i in range(len(panel_loincs)):\n",
    "    try:\n",
    "        unmapped_tests.remove(panel_loincs[i])\n",
    "    except:\n",
    "        print(f\"{panel_loincs[i]} wasn't in list of unmapped codes!\")"
   ]
  },
  {
   "cell_type": "markdown",
   "id": "a3735fac",
   "metadata": {},
   "source": [
    "#### LOINC codes that aren't tests"
   ]
  },
  {
   "cell_type": "code",
   "execution_count": 14,
   "id": "d6b73d66",
   "metadata": {},
   "outputs": [
    {
     "name": "stdout",
     "output_type": "stream",
     "text": [
      "49024-3 wasn't in list of unmapped codes!\n",
      "8262-8 wasn't in list of unmapped codes!\n"
     ]
    }
   ],
   "source": [
    "non_tests = pd.read_csv(data_output_directory+\"suspicious_loinc_codes.csv\")\n",
    "non_tests = non_tests.loc[non_tests['reason'] != 'Panel']\n",
    "\n",
    "# Removing them from SCRIPT list\n",
    "for suspicious in non_tests['loinc_code']:\n",
    "    try:\n",
    "        script_loinc_codes.remove(suspicious)\n",
    "    except ValueError:\n",
    "        print(f\"{suspicious} wasn't in script loincs!\")\n",
    "        \n",
    "    try:\n",
    "        unmapped_tests.remove(suspicious)\n",
    "    except:\n",
    "        print(f\"{suspicious} wasn't in list of unmapped codes!\")\n",
    "\n",
    "# Correcting the exhaustive list of unmapped LOINC codes\n",
    "with open(data_output_directory+'loinc_codes_full.json', 'w') as outfile:\n",
    "    json.dump(unmapped_tests, outfile)"
   ]
  },
  {
   "cell_type": "markdown",
   "id": "f2732010",
   "metadata": {},
   "source": [
    "# For taking a look at the panels file"
   ]
  },
  {
   "cell_type": "code",
   "execution_count": 15,
   "id": "33ef10e6",
   "metadata": {},
   "outputs": [],
   "source": [
    "panels_df['in_script'] = panels_df.apply(lambda row: flag_if_present_in_script(row), axis=1)\n",
    "panels_df['mapped_to_hpo'] = panels_df.apply(lambda row: flag_if_test_is_mapped_to_HPO(row), axis=1)"
   ]
  },
  {
   "cell_type": "code",
   "execution_count": 20,
   "id": "1cf52401",
   "metadata": {},
   "outputs": [],
   "source": [
    "for_hpo = panels_df.loc[panels_df['in_script']&(panels_df['mapped_to_hpo']==False)].sort_values(by='ParentName')"
   ]
  },
  {
   "cell_type": "code",
   "execution_count": 21,
   "id": "0c9ed723",
   "metadata": {},
   "outputs": [],
   "source": [
    "for_hpo = for_hpo[['Loinc', 'LoincName']].drop_duplicates()\n",
    "\n",
    "for_hpo = for_hpo.rename(columns={\"Loinc\": \"loinc_code\",\n",
    "                                 \"LoincName\": \"loinc_name\"})\n",
    "\n",
    "for_hpo['rationale'] = 'belong to ordered panels'\n",
    "for_hpo.to_csv(unmapped_loincs_output_directory+\"panel_belonging_loincs.csv\", index=False)"
   ]
  },
  {
   "cell_type": "code",
   "execution_count": null,
   "id": "3a173355",
   "metadata": {
    "scrolled": true
   },
   "outputs": [],
   "source": [
    "z = panels_df['ParentName'].str.contains(\"coagulation\", case=False)\n",
    "panels_df.loc[z].drop_duplicates().sort_values(by=['ParentLoinc', 'SEQUENCE'])"
   ]
  },
  {
   "cell_type": "code",
   "execution_count": null,
   "id": "626e816c",
   "metadata": {
    "scrolled": true
   },
   "outputs": [],
   "source": [
    "z = panels_df['ParentName'].str.contains(\"blood\", case=False)\n",
    "panels_df.loc[z].drop_duplicates().sort_values(by=['ParentLoinc', 'SEQUENCE'])"
   ]
  },
  {
   "cell_type": "code",
   "execution_count": null,
   "id": "38759d05",
   "metadata": {},
   "outputs": [],
   "source": [
    "print(f\"There are {len(script_loinc_codes)} unique LOINC codes in latest downloaded version of SCRIPT data\\n\")"
   ]
  },
  {
   "cell_type": "markdown",
   "id": "dcb6a1bf",
   "metadata": {},
   "source": [
    "Subsetting the master LOINC table to only include tests present in SCRIPT data"
   ]
  },
  {
   "cell_type": "code",
   "execution_count": null,
   "id": "b10d18ad",
   "metadata": {},
   "outputs": [],
   "source": [
    "g = loinc_df['LOINC_NUM'].isin(script_loinc_codes)\n",
    "script_loincs = loinc_df.loc[g, ['LOINC_NUM', 'LONG_COMMON_NAME']]"
   ]
  },
  {
   "cell_type": "markdown",
   "id": "02e0e6dc",
   "metadata": {},
   "source": [
    "The following is to get a pandas table with columns given by the result dictionary.  \n",
    "If a LOINC code doesn't appear in the LOINC panels table (suggesting that it doesn't belong to a panel), None will appear on the panel names/codes"
   ]
  },
  {
   "cell_type": "code",
   "execution_count": null,
   "id": "efbd47cf",
   "metadata": {},
   "outputs": [],
   "source": [
    "agg_results = []\n",
    "\n",
    "for loinc_code in script_loinc_codes:\n",
    "    \n",
    "    a = script_loincs['LOINC_NUM'] == loinc_code\n",
    "    b = list(script_loincs.loc[a, 'LONG_COMMON_NAME'])\n",
    "    \n",
    "    if loinc_code in set(panels_df['Loinc']):\n",
    "        c = panels_df['Loinc'] == loinc_code\n",
    "        panel_loinc_codes = list(set(panels_df.loc[c, 'ParentLoinc']))\n",
    "        panel_names = list(set(panels_df.loc[c, 'ParentName']))\n",
    "        \n",
    "        for i in range(len(panel_loinc_codes)):\n",
    "            results = {'loinc_code': loinc_code,\n",
    "                       'loinc_name': b[0],\n",
    "                       'panel_loinc_code': panel_loinc_codes[i],\n",
    "                       'panel_name': panel_names[i],\n",
    "                       'HPO_mapped': loinc_code not in unmapped_tests}\n",
    "            agg_results.append(results)\n",
    "    else:\n",
    "        results = {'loinc_code': loinc_code,\n",
    "                   'loinc_name': b[0],\n",
    "                   'panel_loinc_code': None,\n",
    "                   'panel_name': None,\n",
    "                   'HPO_mapped': loinc_code not in unmapped_tests}\n",
    "        agg_results.append(results)"
   ]
  },
  {
   "cell_type": "code",
   "execution_count": null,
   "id": "b514b51c",
   "metadata": {},
   "outputs": [],
   "source": [
    "test_to_panels = pd.DataFrame(agg_results)"
   ]
  },
  {
   "cell_type": "code",
   "execution_count": null,
   "id": "bce7c7ff",
   "metadata": {},
   "outputs": [],
   "source": [
    "test_to_panels.head(25)"
   ]
  },
  {
   "cell_type": "code",
   "execution_count": null,
   "id": "7ce4a1c8",
   "metadata": {},
   "outputs": [],
   "source": [
    "# Getting tests that don't belong to panels listed by the LOINC panels file. They likely aren't ordered as part of a panel\n",
    "p = test_to_panels['panel_loinc_code'].isna()\n",
    "non_panel_loinc_tests = test_to_panels.loc[p]\n",
    "\n",
    "# there may be many tests not belonging to panels. But only interested in those that did not map to HPO\n",
    "non_mapped_non_panel = non_panel_loinc_tests.loc[non_panel_loinc_tests['HPO_mapped'] == False]\n",
    "# non_mapped_non_panel.to_csv(data_output_directory+'non_panel_tests_unmapped_encounter.csv', index=False)"
   ]
  },
  {
   "cell_type": "code",
   "execution_count": null,
   "id": "9170fed6",
   "metadata": {},
   "outputs": [],
   "source": [
    "print(f\"Out of {len(script_loinc_codes)} LOINC-encoded tests in SCRIPT encounters, {len(non_panel_loinc_tests)} did not appear as part of a panel in the LOINC panels file\")"
   ]
  },
  {
   "cell_type": "markdown",
   "id": "1025d215",
   "metadata": {},
   "source": [
    "#### Of tests belonging to panels, how many of them map? And the converse for those that don't map"
   ]
  },
  {
   "cell_type": "code",
   "execution_count": null,
   "id": "b6a0194f",
   "metadata": {},
   "outputs": [],
   "source": [
    "non_panel_tests = test_to_panels.loc[p, ['loinc_code', 'loinc_name', 'HPO_mapped']].drop_duplicates()\n",
    "panel_tests = test_to_panels.loc[~p, ['loinc_code', 'loinc_name', 'HPO_mapped']].drop_duplicates()"
   ]
  },
  {
   "cell_type": "code",
   "execution_count": null,
   "id": "d6e5d2f0",
   "metadata": {},
   "outputs": [],
   "source": [
    "print(f\"Among non-panel tests {non_panel_tests['HPO_mapped'].sum()/len(non_panel_tests)*100:.3f}% map to the HPO, while among tests assigned to panels, the HPO mapping rate is  {panel_tests['HPO_mapped'].sum()/len(panel_tests)*100:.3f}%\")"
   ]
  },
  {
   "cell_type": "markdown",
   "id": "0fc46c82",
   "metadata": {},
   "source": [
    "### Testing whether some panels have all of its tests ordered in SCRIPT"
   ]
  },
  {
   "cell_type": "code",
   "execution_count": null,
   "id": "fced631a",
   "metadata": {},
   "outputs": [],
   "source": [
    "panel_loinc_codes = list(panels_df['ParentLoinc'].drop_duplicates())\n",
    "\n",
    "potential_script_panels = []\n",
    "\n",
    "for panel in panel_loinc_codes:\n",
    "    q = panels_df['ParentLoinc'] == panel\n",
    "    specific_panel = panels_df.loc[q]\n",
    "    \n",
    "    # Since the first row is usually the panel signaler, but it isn't a test\n",
    "    number_of_tests_in_panel = len(specific_panel) - 1\n",
    "    number_of_script_tests_in_panel = sum(specific_panel['in_script'])\n",
    "    \n",
    "    if number_of_script_tests_in_panel >  0.1*number_of_tests_in_panel:\n",
    "        potential_script_panels.append(panel)"
   ]
  },
  {
   "cell_type": "code",
   "execution_count": null,
   "id": "435f34f4",
   "metadata": {},
   "outputs": [],
   "source": [
    "t = panels_df['ParentLoinc'].isin(potential_script_panels)\n",
    "potential_script_panels_df = panels_df.loc[t].drop(columns=['SEQUENCE'])"
   ]
  },
  {
   "cell_type": "code",
   "execution_count": null,
   "id": "acb66d47",
   "metadata": {
    "scrolled": true
   },
   "outputs": [],
   "source": [
    "potential_script_panels_df.head()"
   ]
  },
  {
   "cell_type": "code",
   "execution_count": null,
   "id": "55417605",
   "metadata": {},
   "outputs": [],
   "source": [
    "v = potential_script_panels_df['in_script']\n",
    "potential_script_panels_df = potential_script_panels_df.loc[v].drop_duplicates()\n",
    "\n",
    "p = potential_script_panels_df['mapped_to_hpo'] == False\n",
    "potential_script_panels_df = potential_script_panels_df.loc[p].drop_duplicates()\n",
    "potential_script_panels_df.to_csv(data_output_directory+'potential_script_panels_encounters_10_pct.csv', index=False)"
   ]
  },
  {
   "cell_type": "markdown",
   "id": "2771ac2a",
   "metadata": {},
   "source": [
    "### Will print out a dataframe of tests in SCRIPT that do not map to the HPO currently, and that belong to panels."
   ]
  },
  {
   "cell_type": "code",
   "execution_count": null,
   "id": "b38f2155",
   "metadata": {},
   "outputs": [],
   "source": [
    "f = potential_script_panels_df['mapped_to_hpo'] == False"
   ]
  },
  {
   "cell_type": "code",
   "execution_count": null,
   "id": "47ac88df",
   "metadata": {},
   "outputs": [],
   "source": [
    "for_hpo = potential_script_panels_df.loc[f, ['Loinc', 'LoincName']].drop_duplicates()\n",
    "\n",
    "for_hpo = for_hpo.rename(columns={\"Loinc\": \"loinc_code\",\n",
    "                                 \"LoincName\": \"loinc_name\"})"
   ]
  },
  {
   "cell_type": "code",
   "execution_count": null,
   "id": "44cf4e66",
   "metadata": {},
   "outputs": [],
   "source": [
    "for_hpo['rationale'] = 'belong to ordered panels'\n",
    "# for_hpo.to_csv(unmapped_loincs_output_directory+\"panel_belonging_loincs.csv\", index=False)"
   ]
  },
  {
   "cell_type": "markdown",
   "id": "3af86281",
   "metadata": {},
   "source": [
    "# How about inferring just by datetime co-occurrence"
   ]
  },
  {
   "cell_type": "code",
   "execution_count": null,
   "id": "1537f705",
   "metadata": {},
   "outputs": [],
   "source": [
    "in_script = flm_tools.get_cleaned_data(multiple_visits='all')"
   ]
  },
  {
   "cell_type": "code",
   "execution_count": null,
   "id": "8f2ce958",
   "metadata": {},
   "outputs": [],
   "source": [
    "for_clustering = in_script[['measurement_vocabulary_id',\n",
    "                                     'measurement_concept_code',\n",
    "                                     'measurement_concept_name',\n",
    "                                     'measurement_datetime']]\n",
    "\n",
    "f = for_clustering['measurement_vocabulary_id'] == \"LOINC\"\n",
    "for_clustering = for_clustering.loc[f]\n",
    "\n",
    "codes_to_discard = pd.read_csv(data_output_directory+\"suspicious_loinc_codes.csv\")\n",
    "g = for_clustering['measurement_concept_code'].isin(codes_to_discard['loinc_code'])\n",
    "for_clustering = for_clustering.loc[~g]"
   ]
  },
  {
   "cell_type": "code",
   "execution_count": null,
   "id": "877fbbd7",
   "metadata": {},
   "outputs": [],
   "source": [
    "for_clustering = for_clustering.set_index('measurement_datetime')"
   ]
  },
  {
   "cell_type": "code",
   "execution_count": null,
   "id": "6939e9d8",
   "metadata": {},
   "outputs": [],
   "source": [
    "unique_tests = list(for_clustering['measurement_concept_name'].drop_duplicates())\n",
    "occurrence = np.zeros((len(unique_tests), len(unique_tests)))"
   ]
  },
  {
   "cell_type": "code",
   "execution_count": null,
   "id": "f5dc00a2",
   "metadata": {},
   "outputs": [],
   "source": [
    "from itertools import product\n",
    "from tqdm.notebook import tqdm, trange\n",
    "\n",
    "for stamp in tqdm(for_clustering.index.unique()):\n",
    "    tests = list(for_clustering.loc[str(stamp), 'measurement_concept_name'])\n",
    "    \n",
    "    if len(tests) > 1:\n",
    "#         print(stamp, tests)\n",
    "        indices = [unique_tests.index(test) for test in tests]\n",
    "        pairs = [indices, indices]\n",
    "        \n",
    "        index_combinations = product(*pairs)\n",
    "        \n",
    "        for combination in index_combinations:\n",
    "            occurrence[combination[0], combination[1]] += 1"
   ]
  },
  {
   "cell_type": "code",
   "execution_count": null,
   "id": "4505142f",
   "metadata": {},
   "outputs": [],
   "source": [
    "guat = pd.DataFrame(occurrence, index=unique_tests, columns=unique_tests)"
   ]
  }
 ],
 "metadata": {
  "kernelspec": {
   "display_name": "Python 3 (ipykernel)",
   "language": "python",
   "name": "python3"
  },
  "language_info": {
   "codemirror_mode": {
    "name": "ipython",
    "version": 3
   },
   "file_extension": ".py",
   "mimetype": "text/x-python",
   "name": "python",
   "nbconvert_exporter": "python",
   "pygments_lexer": "ipython3",
   "version": "3.8.12"
  }
 },
 "nbformat": 4,
 "nbformat_minor": 5
}
