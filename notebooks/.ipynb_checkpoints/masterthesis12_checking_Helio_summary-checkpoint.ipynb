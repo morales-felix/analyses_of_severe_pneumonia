{
 "cells": [
  {
   "cell_type": "code",
   "execution_count": 1,
   "metadata": {},
   "outputs": [],
   "source": [
    "import pandas as pd"
   ]
  },
  {
   "cell_type": "code",
   "execution_count": 2,
   "metadata": {},
   "outputs": [
    {
     "name": "stderr",
     "output_type": "stream",
     "text": [
      "C:\\Users\\FLM9508\\.conda\\envs\\sam\\lib\\site-packages\\IPython\\core\\interactiveshell.py:3062: DtypeWarning: Columns (53) have mixed types.Specify dtype option on import or set low_memory=False.\n",
      "  has_raised = await self.run_ast_nodes(code_ast.body, cell_name,\n"
     ]
    }
   ],
   "source": [
    "summary = pd.read_csv('code_status_new.csv')\n",
    "table = pd.read_csv('210613_measurements_table.csv')\n",
    "all_measurements = table[['measurement_concept_code', 'measurement_concept_name']].drop_duplicates()\n",
    "summary.columns = ['measurement_concept_code', 'found']"
   ]
  },
  {
   "cell_type": "code",
   "execution_count": 3,
   "metadata": {},
   "outputs": [],
   "source": [
    "joint = pd.merge(all_measurements, summary)\n",
    "hpo_yea = joint.loc[joint['found']]\n",
    "hpo_nay = joint.loc[~joint['found']]"
   ]
  },
  {
   "cell_type": "code",
   "execution_count": 5,
   "metadata": {},
   "outputs": [],
   "source": [
    "measures = list(hpo_yea['measurement_concept_name'])"
   ]
  },
  {
   "cell_type": "code",
   "execution_count": 6,
   "metadata": {},
   "outputs": [
    {
     "name": "stdout",
     "output_type": "stream",
     "text": [
      "Oxygen saturation in Arterial blood by Pulse oximetry\n",
      "Oxygen [Partial pressure] in Arterial blood\n"
     ]
    }
   ],
   "source": [
    "for test in measures:\n",
    "    if \"Oxygen\" in test:\n",
    "        print(test)"
   ]
  },
  {
   "cell_type": "code",
   "execution_count": 7,
   "metadata": {},
   "outputs": [],
   "source": [
    "total_rows = len(table['measurement_concept_name'])\n",
    "table = pd.merge(table, summary)\n",
    "yea_table = table.loc[table['found']]\n",
    "nay_table = table.loc[~table['found']]"
   ]
  },
  {
   "cell_type": "code",
   "execution_count": 8,
   "metadata": {},
   "outputs": [
    {
     "data": {
      "text/plain": [
       "1641762"
      ]
     },
     "execution_count": 8,
     "metadata": {},
     "output_type": "execute_result"
    }
   ],
   "source": [
    "total_rows"
   ]
  },
  {
   "cell_type": "code",
   "execution_count": 9,
   "metadata": {},
   "outputs": [
    {
     "data": {
      "text/plain": [
       "1465230"
      ]
     },
     "execution_count": 9,
     "metadata": {},
     "output_type": "execute_result"
    }
   ],
   "source": [
    "len(yea_table)"
   ]
  },
  {
   "cell_type": "code",
   "execution_count": 10,
   "metadata": {},
   "outputs": [
    {
     "name": "stdout",
     "output_type": "stream",
     "text": [
      "[(TermId(prefix='HP', id='0000001'), Term(id=TermId(prefix='HP', id='0000001'), name='All', altTermIds=[], definition=None, databaseXrefs=[SimpleXref(prefix='UMLS', value='C0444868')], comment='Root of all terms in the Human Phenotype Ontology.', subsets=[], synonyms=[], obsolete=False, createdBy=None, creationDate=None, xrefs=None, isA=[], replacedBy=None, consider=[], propertyValues=[])), (TermId(prefix='HP', id='0000002'), Term(id=TermId(prefix='HP', id='0000002'), name='Abnormality of body height', altTermIds=[], definition='\"Deviation from the norm of height with respect to that which is expected according to age and gender norms.\" [HPO:probinson]', databaseXrefs=[SimpleXref(prefix='UMLS', value='C4025901')], comment=None, subsets=[], synonyms=['\"Abnormality of body height\" EXACT layperson []'], obsolete=False, createdBy='peter', creationDate=None, xrefs=None, isA=[IsA(id=TermId(prefix='HP', id='0001507'), description='Growth abnormality')], replacedBy=None, consider=[], propertyValues=[]))]\n"
     ]
    }
   ],
   "source": [
    "import lohpo\n",
    "\n",
    "header, result = lohpo.HpoTermListLoader.load()\n",
    "\n",
    "print(list(result.items())[0:2])"
   ]
  }
 ],
 "metadata": {
  "kernelspec": {
   "display_name": "Python 3 (ipykernel)",
   "language": "python",
   "name": "python3"
  },
  "language_info": {
   "codemirror_mode": {
    "name": "ipython",
    "version": 3
   },
   "file_extension": ".py",
   "mimetype": "text/x-python",
   "name": "python",
   "nbconvert_exporter": "python",
   "pygments_lexer": "ipython3",
   "version": "3.8.12"
  }
 },
 "nbformat": 4,
 "nbformat_minor": 4
}
