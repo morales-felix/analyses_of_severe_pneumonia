{
 "cells": [
  {
   "cell_type": "code",
   "execution_count": 1,
   "metadata": {},
   "outputs": [],
   "source": [
    "import numpy as np\n",
    "import pandas as pd\n",
    "import seaborn as sns\n",
    "import matplotlib.pyplot as plt\n",
    "import math\n",
    "from scipy import stats\n",
    "from collections import Counter\n",
    "from bioinfokit import analys, visuz"
   ]
  },
  {
   "cell_type": "code",
   "execution_count": 2,
   "metadata": {},
   "outputs": [
    {
     "data": {
      "text/html": [
       "<style>.container { width:90% !important; }</style>"
      ],
      "text/plain": [
       "<IPython.core.display.HTML object>"
      ]
     },
     "metadata": {},
     "output_type": "display_data"
    }
   ],
   "source": [
    "from IPython.core.display import display, HTML\n",
    "display(HTML(\"<style>.container { width:90% !important; }</style>\"))"
   ]
  },
  {
   "cell_type": "code",
   "execution_count": 3,
   "metadata": {},
   "outputs": [],
   "source": [
    "import sys                    \n",
    "sys.path.append('./../general/src')\n",
    "\n",
    "from access_script_data import patients\n",
    "\n",
    "sys.path.append('./../tst/src/')\n",
    "import utils\n",
    "import feature_conversion\n",
    "\n",
    "sys.path.append('./../flm/src/')\n",
    "import flm_tools"
   ]
  },
  {
   "cell_type": "markdown",
   "metadata": {},
   "source": [
    "### Multiple"
   ]
  },
  {
   "cell_type": "code",
   "execution_count": 4,
   "metadata": {},
   "outputs": [],
   "source": [
    "multiple_all_table = flm_tools.get_cleaned_data()\n",
    "\n",
    "diagnosis = patients.modified_edw_rc('pneumonia_episode_category_assessment', revision='latest',\n",
    "                                     columns=['case_number', 'clin_cap_viral_npop', 'pneu_assess_dt', 'pt_category'])\n",
    "\n",
    "diagnosis = feature_conversion.shorten_pt_category(diagnosis)\n",
    "diagnosis = diagnosis.dropna(subset=['pt_category'])\n",
    "diagnosis['pt_category'] = diagnosis['pt_category'].replace({'VAP': 'HAP'})\n",
    "diagnosis = diagnosis.drop_duplicates(subset=['case_number'], keep='last')\n",
    "\n",
    "multiple_all_table = pd.merge(multiple_all_table, diagnosis)"
   ]
  },
  {
   "cell_type": "code",
   "execution_count": 5,
   "metadata": {},
   "outputs": [],
   "source": [
    "outcomes = multiple_all_table[['case_number', 'discharge_disposition_name_conv']].drop_duplicates()\n",
    "\n",
    "c = outcomes['discharge_disposition_name_conv'].value_counts()\n",
    "conteo = c.values\n",
    "resultado = c.index\n",
    "\n",
    "df_multiple = pd.DataFrame({\"outcome\": resultado, \"counts\": conteo})\n",
    "df_multiple = df_multiple.replace({0: \"Expired\", 1: \"Hospice care\", 2: \"LTAC\", 3: \"Nursing Home\", 4: \"Inpatient Rehab\", 5: \"Sent Home\"})"
   ]
  },
  {
   "cell_type": "markdown",
   "metadata": {},
   "source": [
    "### Three"
   ]
  },
  {
   "cell_type": "code",
   "execution_count": 6,
   "metadata": {},
   "outputs": [],
   "source": [
    "three_all_table = flm_tools.get_cleaned_data(outcome_encoding='three')\n",
    "\n",
    "three_all_table = pd.merge(three_all_table, diagnosis)"
   ]
  },
  {
   "cell_type": "code",
   "execution_count": 7,
   "metadata": {},
   "outputs": [],
   "source": [
    "outcomes = three_all_table[['case_number', 'discharge_disposition_name_conv']].drop_duplicates()\n",
    "\n",
    "c = outcomes['discharge_disposition_name_conv'].value_counts()\n",
    "conteo = c.values\n",
    "resultado = c.index\n",
    "\n",
    "df_three = pd.DataFrame({\"outcome\": resultado, \"counts\": conteo, \"fraction\": conteo/conteo.sum()})\n",
    "df_three = df_three.replace({0: \"Expired\", 1: \"Transferred\", 2: \"Sent Home\"})"
   ]
  },
  {
   "cell_type": "code",
   "execution_count": 8,
   "metadata": {},
   "outputs": [
    {
     "data": {
      "text/html": [
       "<div>\n",
       "<style scoped>\n",
       "    .dataframe tbody tr th:only-of-type {\n",
       "        vertical-align: middle;\n",
       "    }\n",
       "\n",
       "    .dataframe tbody tr th {\n",
       "        vertical-align: top;\n",
       "    }\n",
       "\n",
       "    .dataframe thead th {\n",
       "        text-align: right;\n",
       "    }\n",
       "</style>\n",
       "<table border=\"1\" class=\"dataframe\">\n",
       "  <thead>\n",
       "    <tr style=\"text-align: right;\">\n",
       "      <th></th>\n",
       "      <th>outcome</th>\n",
       "      <th>counts</th>\n",
       "      <th>fraction</th>\n",
       "    </tr>\n",
       "  </thead>\n",
       "  <tbody>\n",
       "    <tr>\n",
       "      <th>0</th>\n",
       "      <td>Expired</td>\n",
       "      <td>118</td>\n",
       "      <td>0.384365</td>\n",
       "    </tr>\n",
       "    <tr>\n",
       "      <th>1</th>\n",
       "      <td>Transferred</td>\n",
       "      <td>110</td>\n",
       "      <td>0.358306</td>\n",
       "    </tr>\n",
       "    <tr>\n",
       "      <th>2</th>\n",
       "      <td>Sent Home</td>\n",
       "      <td>79</td>\n",
       "      <td>0.257329</td>\n",
       "    </tr>\n",
       "  </tbody>\n",
       "</table>\n",
       "</div>"
      ],
      "text/plain": [
       "       outcome  counts  fraction\n",
       "0      Expired     118  0.384365\n",
       "1  Transferred     110  0.358306\n",
       "2    Sent Home      79  0.257329"
      ]
     },
     "execution_count": 8,
     "metadata": {},
     "output_type": "execute_result"
    }
   ],
   "source": [
    "df_three"
   ]
  },
  {
   "cell_type": "markdown",
   "metadata": {},
   "source": [
    "### Binary"
   ]
  },
  {
   "cell_type": "code",
   "execution_count": 9,
   "metadata": {},
   "outputs": [],
   "source": [
    "binary_all_table = flm_tools.get_cleaned_data(outcome_encoding='binary')\n",
    "\n",
    "binary_all_table = pd.merge(binary_all_table, diagnosis)"
   ]
  },
  {
   "cell_type": "code",
   "execution_count": 10,
   "metadata": {},
   "outputs": [],
   "source": [
    "outcomes = binary_all_table[['case_number', 'discharge_disposition_name_conv']].drop_duplicates()\n",
    "\n",
    "c = outcomes['discharge_disposition_name_conv'].value_counts()\n",
    "conteo = c.values\n",
    "resultado = c.index\n",
    "\n",
    "df_binary = pd.DataFrame({\"outcome\": resultado, \"counts\": conteo, \"fraction\": conteo/sum(conteo)})\n",
    "df_binary = df_binary.replace({0: \"Expired\", 1: \"Survived\"})\n",
    "df_binary = df_binary.sort_values(by='outcome')"
   ]
  },
  {
   "cell_type": "code",
   "execution_count": 13,
   "metadata": {},
   "outputs": [
    {
     "data": {
      "image/png": "[encoded data removed]",
      "text/plain": [
       "<Figure size 576x576 with 1 Axes>"
      ]
     },
     "metadata": {
      "needs_background": "light"
     },
     "output_type": "display_data"
    }
   ],
   "source": [
    "fig0,eje = plt.subplots(1,1,figsize=(8,8), constrained_layout=True)\n",
    "plot2 = sns.barplot(x=\"outcome\", y=\"fraction\", data=df_binary, palette=['red','limegreen'], ax=eje)\n",
    "plot2.set(ylabel=None)\n",
    "plot2.set(xlabel=None)\n",
    "\n",
    "for p in plot2.patches:\n",
    "    plot2.annotate(format(p.get_height()*sum(conteo), '.0f'), \n",
    "                   (p.get_x() + p.get_width() / 2., p.get_height()), \n",
    "                   ha = 'center', va = 'center', size=25, \n",
    "                   xytext = (0, -12), \n",
    "                   textcoords = 'offset points')\n",
    "    \n",
    "eje.set_ylabel('Fraction of patients', size=22)\n",
    "eje.tick_params(axis='x', labelsize=22)\n",
    "eje.tick_params(axis='y', labelsize=22)\n",
    "eje.grid(linestyle=':', axis='y')\n",
    "# plt.savefig(\"look_an_outcome.png\")"
   ]
  },
  {
   "cell_type": "code",
   "execution_count": null,
   "metadata": {},
   "outputs": [],
   "source": [
    "fig1, axes = plt.subplots(ncols=3, nrows=1, figsize=(18, 8), constrained_layout=True)\n",
    "plot1 = sns.barplot(x=\"outcome\",\n",
    "                  y=\"counts\",\n",
    "                  order=[\"Expired\",\"Hospice care\",\"LTAC\",\"Nursing Home\",\"Inpatient Rehab\",\"Sent Home\"],\n",
    "                  data=df_multiple,\n",
    "                    palette=['red','tomato','darkorange','yellow','lawngreen','green'],\n",
    "                   ax=axes[0])\n",
    "plot1.set(xlabel=None)\n",
    "plot1.set(ylabel=None)\n",
    "\n",
    "for p in plot1.patches:\n",
    "    plot1.annotate(format(p.get_height(), '.0f'), \n",
    "                   (p.get_x() + p.get_width() / 2., p.get_height()), \n",
    "                   ha = 'center', va = 'center', size=25, \n",
    "                   xytext = (0, -12), \n",
    "                   textcoords = 'offset points')\n",
    "    \n",
    "axes[0].set_ylabel('Patient count', size=22)\n",
    "axes[0].tick_params(axis='x', labelsize=22)\n",
    "axes[0].set_xticklabels([\"Expired\",\"Hospice care\",\"LTAC\",\"Nursing Home\",\"Inpatient Rehab\",\"Sent Home\"], rotation=45, ha='right')\n",
    "axes[0].tick_params(left=False, labelleft=False)\n",
    "axes[0].text(0.0, 1.07, 'a', transform=axes[0].transAxes,\n",
    "      fontsize=23, va='top')\n",
    "\n",
    "\n",
    "plot2 = sns.barplot(x=\"outcome\", y=\"counts\", data=df_binary, palette=['red','limegreen'], ax=axes[1])\n",
    "plot2.set(ylabel=None)\n",
    "plot2.set(xlabel=None)\n",
    "\n",
    "for p in plot2.patches:\n",
    "    plot2.annotate(format(p.get_height(), '.0f'), \n",
    "                   (p.get_x() + p.get_width() / 2., p.get_height()), \n",
    "                   ha = 'center', va = 'center', size=25, \n",
    "                   xytext = (0, -12), \n",
    "                   textcoords = 'offset points')\n",
    "    \n",
    "axes[1].set_ylabel('Patient count', size=22)\n",
    "axes[1].tick_params(axis='x', labelsize=22)\n",
    "axes[1].tick_params(left=False, labelleft=False)\n",
    "axes[1].text(0.0, 1.07, 'b', transform=axes[1].transAxes,\n",
    "      fontsize=23, va='top')\n",
    "\n",
    "\n",
    "plot3 = sns.barplot(x=\"outcome\",\n",
    "                    y=\"counts\",\n",
    "                    data=df_three,\n",
    "                    palette=['red','orange','green'],\n",
    "                    ax=axes[2])\n",
    "plot3.set(ylabel=None)\n",
    "plot3.set(xlabel=None)\n",
    "\n",
    "for p in plot3.patches:\n",
    "    plot3.annotate(format(p.get_height(), '.0f'), \n",
    "                   (p.get_x() + p.get_width() / 2., p.get_height()), \n",
    "                   ha = 'center', va = 'center', size=25, \n",
    "                   xytext = (0, -12), \n",
    "                   textcoords = 'offset points')\n",
    "    \n",
    "axes[2].set_ylabel('Patient count', size=22)\n",
    "axes[2].tick_params(axis='x', labelsize=22)\n",
    "axes[2].tick_params(left=False, labelleft=False)\n",
    "axes[2].text(0.0, 1.07, 'c', transform=axes[2].transAxes,\n",
    "      fontsize=23, va='top')\n",
    "\n",
    "# plt.savefig(\"outcome_histograms_210602.png\")"
   ]
  },
  {
   "cell_type": "markdown",
   "metadata": {},
   "source": [
    "### Could the number of unique tests given to a case be related to worse disease outcomes?"
   ]
  },
  {
   "cell_type": "markdown",
   "metadata": {},
   "source": [
    "#### Consider the number of unique tests in a given visit to the ICU"
   ]
  },
  {
   "cell_type": "code",
   "execution_count": null,
   "metadata": {},
   "outputs": [],
   "source": [
    "measurements_during_encounter = binary_all_table.set_index('case_number')\n",
    "alt_table = []\n",
    "for case in measurements_during_encounter.index.unique():\n",
    "    try:\n",
    "        LOS = measurements_during_encounter.loc[case, 'hospital_los_days'].unique()[0]\n",
    "    except AttributeError:\n",
    "        LOS = measurements_during_encounter.loc[case, 'hospital_los_days']\n",
    "    \n",
    "    try:\n",
    "        num_of_tests = len(measurements_during_encounter.loc[case, 'measurement_concept_name'].unique())\n",
    "    except AttributeError:\n",
    "        num_of_tests = len([measurements_during_encounter.loc[case, 'measurement_concept_name']])\n",
    "        \n",
    "    norm_num = num_of_tests/LOS\n",
    "    \n",
    "    try:\n",
    "        discharge = measurements_during_encounter.loc[case,'discharge_disposition_name_conv'].unique()[0]\n",
    "    except AttributeError:\n",
    "        discharge = measurements_during_encounter.loc[case,'discharge_disposition_name_conv']\n",
    "        \n",
    "    rows = {'#_unique_tests': num_of_tests, '#_unique_tests_per_day': norm_num, 'outcome': discharge, 'LOS': LOS}\n",
    "    alt_table.append(rows)\n",
    "\n",
    "third = pd.DataFrame(alt_table)"
   ]
  },
  {
   "cell_type": "code",
   "execution_count": null,
   "metadata": {},
   "outputs": [],
   "source": [
    "third_tests = []\n",
    "third_tests_norm = []\n",
    "third_LOS = []\n",
    "agg = []\n",
    "for out in set(third['outcome']):\n",
    "    f = third['outcome'] == out\n",
    "    third_tests.append(list(third.loc[f, '#_unique_tests']))\n",
    "    third_tests_norm.append(list(third.loc[f, '#_unique_tests_per_day']))\n",
    "    third_LOS.append(list(third.loc[f, 'LOS']))"
   ]
  },
  {
   "cell_type": "code",
   "execution_count": null,
   "metadata": {},
   "outputs": [],
   "source": [
    "_, pvaluemw1 = stats.mannwhitneyu(third_tests[0], third_tests[1], alternative='two-sided')\n",
    "_, pvaluemw2 = stats.mannwhitneyu(third_tests_norm[0], third_tests_norm[1], alternative='two-sided')\n",
    "_, pvaluemw3 = stats.mannwhitneyu(third_LOS[0], third_LOS[1], alternative='two-sided')\n",
    "\n",
    "summary = {'Statistics': ['Difference of medians','p-value'],\n",
    "           'Test_count': [np.median(third_tests[1])-np.median(third_tests[0]),pvaluemw1],\n",
    "          'Normalized_test_count': [np.median(third_tests_norm[1])-np.median(third_tests_norm[0]),pvaluemw2],\n",
    "          'LOS': [np.median(third_LOS[1])-np.median(third_LOS[0]),pvaluemw3]}\n",
    "\n",
    "pd.DataFrame(summary)"
   ]
  },
  {
   "cell_type": "code",
   "execution_count": null,
   "metadata": {},
   "outputs": [],
   "source": [
    "# fig6,[ax6, ax7, ax8] = plt.subplots(1, 3, figsize=(19,5))\n",
    "fig6, ax8 = plt.subplots(1, 1, figsize=(6,6))\n",
    "# ax6.boxplot(third_tests, notch='True', bootstrap=10000, patch_artist=True, labels=set(third['outcome']))\n",
    "# ax7.boxplot(third_tests_norm, notch='True', bootstrap=10000, patch_artist=True, labels=set(third['outcome']))\n",
    "ax8.boxplot(third_LOS, notch='True', bootstrap=10000, patch_artist=True, labels=['Expired', 'Survived'])\n",
    "\n",
    "# ax6.set_ylabel(\"Number of unique tests\",fontsize=13)\n",
    "# ax6.set_xlabel(\"Discharge disposition (0-Expired, 5-Sent Home)\", fontsize=13)\n",
    "# ax6.set_title(\"Unique test count\")\n",
    "# ax6.grid(linestyle=':')\n",
    "\n",
    "# ax7.set_ylabel(\"Number of unique tests/day\", fontsize=13)\n",
    "# ax7.set_xlabel(\"Discharge disposition (0-Expired, 5-Sent Home)\", fontsize=13)\n",
    "# ax7.set_title(\"Unique test *normalized* count\")\n",
    "# ax7.grid(linestyle=':')\n",
    "\n",
    "ax8.set_ylabel(\"Length of stay (days)\", fontsize=14)\n",
    "# ax8.set_xlabel(\"Outcome\", fontsize=13)\n",
    "# ax8.set_title(\"Length of stay\")\n",
    "ax8.grid(linestyle=':', axis='y')\n",
    "ax8.tick_params(axis='x', labelsize=12)\n",
    "ax8.tick_params(axis='y', labelsize=12)\n",
    "\n",
    "# plt.savefig(\"LOS_binary_outcome_210602.png\")\n",
    "plt.show()"
   ]
  },
  {
   "cell_type": "code",
   "execution_count": null,
   "metadata": {},
   "outputs": [],
   "source": [
    "cdf_expired = flm_tools.get_survival_fn(third_LOS[0])\n",
    "cdf_survived = flm_tools.get_survival_fn(third_LOS[1])"
   ]
  },
  {
   "cell_type": "code",
   "execution_count": null,
   "metadata": {},
   "outputs": [],
   "source": [
    "fig, eje = plt.subplots(1, 1, figsize=(8,8), constrained_layout=True)\n",
    "eje.step(cdf_expired[0], cdf_expired[1], color='r', label='Expired')\n",
    "eje.step(cdf_survived[0], cdf_survived[1], color='limegreen', label=\"Survived\")\n",
    "eje.set_xlabel('Length of Stay (days)', fontsize=20)\n",
    "eje.set_ylabel('Fraction of patients remaining', fontsize=20)\n",
    "eje.tick_params(axis='x', labelsize=20)\n",
    "eje.tick_params(axis='y', labelsize=20)\n",
    "eje.grid(linestyle=':')\n",
    "eje.legend(loc='best', fontsize=15)\n",
    "plt.savefig(\"LOS_binary_outcomes_CDF_210602.png\")"
   ]
  }
 ],
 "metadata": {
  "kernelspec": {
   "display_name": "Python 3 (ipykernel)",
   "language": "python",
   "name": "python3"
  },
  "language_info": {
   "codemirror_mode": {
    "name": "ipython",
    "version": 3
   },
   "file_extension": ".py",
   "mimetype": "text/x-python",
   "name": "python",
   "nbconvert_exporter": "python",
   "pygments_lexer": "ipython3",
   "version": "3.8.12"
  }
 },
 "nbformat": 4,
 "nbformat_minor": 4
}
